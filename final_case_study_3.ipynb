{
 "cells": [
  {
   "cell_type": "code",
   "execution_count": 3,
   "metadata": {},
   "outputs": [],
   "source": [
    "import pandas as pd \n",
    "import matplotlib.pyplot as plt\n",
    "import numpy as np\n",
    "import math\n",
    "import seaborn as sns\n",
    "\n",
    "from sklearn import tree\n",
    "from sklearn.ensemble import RandomForestClassifier\n",
    "from sklearn.model_selection import train_test_split\n",
    "from sklearn.cluster import KMeans"
   ]
  },
  {
   "cell_type": "markdown",
   "metadata": {},
   "source": [
    "# Loading dataset into the dataframe"
   ]
  },
  {
   "cell_type": "code",
   "execution_count": 4,
   "metadata": {},
   "outputs": [],
   "source": [
    "data_set = pd.read_excel('University advancement dataset.xlsx')"
   ]
  },
  {
   "cell_type": "code",
   "execution_count": 5,
   "metadata": {
    "scrolled": true
   },
   "outputs": [
    {
     "data": {
      "text/html": [
       "<div>\n",
       "<style scoped>\n",
       "    .dataframe tbody tr th:only-of-type {\n",
       "        vertical-align: middle;\n",
       "    }\n",
       "\n",
       "    .dataframe tbody tr th {\n",
       "        vertical-align: top;\n",
       "    }\n",
       "\n",
       "    .dataframe thead th {\n",
       "        text-align: right;\n",
       "    }\n",
       "</style>\n",
       "<table border=\"1\" class=\"dataframe\">\n",
       "  <thead>\n",
       "    <tr style=\"text-align: right;\">\n",
       "      <th></th>\n",
       "      <th>ID Number</th>\n",
       "      <th>Title</th>\n",
       "      <th>Preferred Language</th>\n",
       "      <th>Gender</th>\n",
       "      <th>Relationship Types</th>\n",
       "      <th>Faculty of Graduation</th>\n",
       "      <th>Year of Graduation</th>\n",
       "      <th>Province</th>\n",
       "      <th>Lifetime Giving</th>\n",
       "      <th>Year of Last Gift</th>\n",
       "      <th>Year of First Gift</th>\n",
       "      <th>Largest Gift</th>\n",
       "      <th>Events Attended in Lifetime</th>\n",
       "      <th>Past Traveler Y/N</th>\n",
       "      <th># of Instances of Volunteering</th>\n",
       "      <th># of Clicks in the Past Month</th>\n",
       "    </tr>\n",
       "  </thead>\n",
       "  <tbody>\n",
       "    <tr>\n",
       "      <th>0</th>\n",
       "      <td>100001</td>\n",
       "      <td>NaN</td>\n",
       "      <td>E</td>\n",
       "      <td>M</td>\n",
       "      <td>Graduate</td>\n",
       "      <td>Medicine -- General</td>\n",
       "      <td>1968</td>\n",
       "      <td>ON</td>\n",
       "      <td>73600</td>\n",
       "      <td>1997.0</td>\n",
       "      <td>1978.0</td>\n",
       "      <td>22080.0</td>\n",
       "      <td>0</td>\n",
       "      <td>N</td>\n",
       "      <td>0</td>\n",
       "      <td>27</td>\n",
       "    </tr>\n",
       "    <tr>\n",
       "      <th>1</th>\n",
       "      <td>100002</td>\n",
       "      <td>NaN</td>\n",
       "      <td>E</td>\n",
       "      <td>M</td>\n",
       "      <td>Graduate</td>\n",
       "      <td>Arts -- General</td>\n",
       "      <td>1958</td>\n",
       "      <td>NB</td>\n",
       "      <td>8035</td>\n",
       "      <td>1962.0</td>\n",
       "      <td>1961.0</td>\n",
       "      <td>1768.0</td>\n",
       "      <td>14</td>\n",
       "      <td>N</td>\n",
       "      <td>1</td>\n",
       "      <td>19</td>\n",
       "    </tr>\n",
       "    <tr>\n",
       "      <th>2</th>\n",
       "      <td>100003</td>\n",
       "      <td>NaN</td>\n",
       "      <td>E</td>\n",
       "      <td>F</td>\n",
       "      <td>Graduate</td>\n",
       "      <td>Science -- General</td>\n",
       "      <td>1963</td>\n",
       "      <td>ON</td>\n",
       "      <td>9675</td>\n",
       "      <td>1961.0</td>\n",
       "      <td>1961.0</td>\n",
       "      <td>3483.0</td>\n",
       "      <td>15</td>\n",
       "      <td>N</td>\n",
       "      <td>1</td>\n",
       "      <td>18</td>\n",
       "    </tr>\n",
       "    <tr>\n",
       "      <th>3</th>\n",
       "      <td>100004</td>\n",
       "      <td>NaN</td>\n",
       "      <td></td>\n",
       "      <td>M</td>\n",
       "      <td>Graduate</td>\n",
       "      <td>Education -- General</td>\n",
       "      <td>1960</td>\n",
       "      <td>BC</td>\n",
       "      <td>4070</td>\n",
       "      <td>1990.0</td>\n",
       "      <td>1986.0</td>\n",
       "      <td>2768.0</td>\n",
       "      <td>14</td>\n",
       "      <td>N</td>\n",
       "      <td>2</td>\n",
       "      <td>10</td>\n",
       "    </tr>\n",
       "    <tr>\n",
       "      <th>4</th>\n",
       "      <td>100005</td>\n",
       "      <td>NaN</td>\n",
       "      <td>E</td>\n",
       "      <td>M</td>\n",
       "      <td>Graduate</td>\n",
       "      <td>Management</td>\n",
       "      <td>1955</td>\n",
       "      <td>QC</td>\n",
       "      <td>13377</td>\n",
       "      <td>1970.0</td>\n",
       "      <td>1957.0</td>\n",
       "      <td>3077.0</td>\n",
       "      <td>0</td>\n",
       "      <td>N</td>\n",
       "      <td>0</td>\n",
       "      <td>16</td>\n",
       "    </tr>\n",
       "  </tbody>\n",
       "</table>\n",
       "</div>"
      ],
      "text/plain": [
       "   ID Number Title Preferred Language Gender Relationship Types  \\\n",
       "0     100001   NaN                  E      M           Graduate   \n",
       "1     100002   NaN                  E      M           Graduate   \n",
       "2     100003   NaN                  E      F           Graduate   \n",
       "3     100004   NaN                         M           Graduate   \n",
       "4     100005   NaN                  E      M           Graduate   \n",
       "\n",
       "  Faculty of Graduation  Year of Graduation Province  Lifetime Giving  \\\n",
       "0   Medicine -- General                1968       ON            73600   \n",
       "1       Arts -- General                1958       NB             8035   \n",
       "2    Science -- General                1963       ON             9675   \n",
       "3  Education -- General                1960       BC             4070   \n",
       "4            Management                1955       QC            13377   \n",
       "\n",
       "   Year of Last Gift  Year of First Gift  Largest Gift  \\\n",
       "0             1997.0              1978.0       22080.0   \n",
       "1             1962.0              1961.0        1768.0   \n",
       "2             1961.0              1961.0        3483.0   \n",
       "3             1990.0              1986.0        2768.0   \n",
       "4             1970.0              1957.0        3077.0   \n",
       "\n",
       "   Events Attended in Lifetime Past Traveler Y/N  \\\n",
       "0                            0                 N   \n",
       "1                           14                 N   \n",
       "2                           15                 N   \n",
       "3                           14                 N   \n",
       "4                            0                 N   \n",
       "\n",
       "   # of Instances of Volunteering  # of Clicks in the Past Month  \n",
       "0                               0                             27  \n",
       "1                               1                             19  \n",
       "2                               1                             18  \n",
       "3                               2                             10  \n",
       "4                               0                             16  "
      ]
     },
     "execution_count": 5,
     "metadata": {},
     "output_type": "execute_result"
    }
   ],
   "source": [
    "data_set.head()"
   ]
  },
  {
   "cell_type": "markdown",
   "metadata": {},
   "source": [
    "# Checking data for null values"
   ]
  },
  {
   "cell_type": "markdown",
   "metadata": {},
   "source": [
    "Title, Preferred language,  - Lot of null values, might not be used to analyze, clustering can be used for chairman, CEO or president"
   ]
  },
  {
   "cell_type": "code",
   "execution_count": 6,
   "metadata": {},
   "outputs": [
    {
     "name": "stdout",
     "output_type": "stream",
     "text": [
      "<class 'pandas.core.frame.DataFrame'>\n",
      "RangeIndex: 50000 entries, 0 to 49999\n",
      "Data columns (total 16 columns):\n",
      " #   Column                          Non-Null Count  Dtype  \n",
      "---  ------                          --------------  -----  \n",
      " 0   ID Number                       50000 non-null  int64  \n",
      " 1   Title                           2490 non-null   object \n",
      " 2   Preferred Language              50000 non-null  object \n",
      " 3   Gender                          50000 non-null  object \n",
      " 4   Relationship Types              50000 non-null  object \n",
      " 5   Faculty of Graduation           50000 non-null  object \n",
      " 6   Year of Graduation              50000 non-null  int64  \n",
      " 7   Province                        50000 non-null  object \n",
      " 8   Lifetime Giving                 50000 non-null  int64  \n",
      " 9   Year of Last Gift               16086 non-null  float64\n",
      " 10  Year of First Gift              16086 non-null  float64\n",
      " 11  Largest Gift                    16088 non-null  float64\n",
      " 12  Events Attended in Lifetime     50000 non-null  int64  \n",
      " 13  Past Traveler Y/N               50000 non-null  object \n",
      " 14  # of Instances of Volunteering  50000 non-null  int64  \n",
      " 15  # of Clicks in the Past Month   50000 non-null  int64  \n",
      "dtypes: float64(3), int64(6), object(7)\n",
      "memory usage: 6.1+ MB\n"
     ]
    }
   ],
   "source": [
    "data_set.info()"
   ]
  },
  {
   "cell_type": "code",
   "execution_count": 7,
   "metadata": {},
   "outputs": [
    {
     "data": {
      "text/plain": [
       "Index(['ID Number', 'Title', 'Preferred Language', 'Gender',\n",
       "       'Relationship Types', 'Faculty of Graduation', 'Year of Graduation',\n",
       "       'Province', 'Lifetime Giving', 'Year of Last Gift',\n",
       "       'Year of First Gift', 'Largest Gift', 'Events Attended in Lifetime',\n",
       "       'Past Traveler Y/N', '# of Instances of Volunteering',\n",
       "       '# of Clicks in the Past Month'],\n",
       "      dtype='object')"
      ]
     },
     "execution_count": 7,
     "metadata": {},
     "output_type": "execute_result"
    }
   ],
   "source": [
    "data_set.columns"
   ]
  },
  {
   "cell_type": "code",
   "execution_count": 8,
   "metadata": {},
   "outputs": [
    {
     "data": {
      "text/html": [
       "<div>\n",
       "<style scoped>\n",
       "    .dataframe tbody tr th:only-of-type {\n",
       "        vertical-align: middle;\n",
       "    }\n",
       "\n",
       "    .dataframe tbody tr th {\n",
       "        vertical-align: top;\n",
       "    }\n",
       "\n",
       "    .dataframe thead th {\n",
       "        text-align: right;\n",
       "    }\n",
       "</style>\n",
       "<table border=\"1\" class=\"dataframe\">\n",
       "  <thead>\n",
       "    <tr style=\"text-align: right;\">\n",
       "      <th></th>\n",
       "      <th>ID Number</th>\n",
       "      <th>Year of Graduation</th>\n",
       "      <th>Lifetime Giving</th>\n",
       "      <th>Year of Last Gift</th>\n",
       "      <th>Year of First Gift</th>\n",
       "      <th>Largest Gift</th>\n",
       "      <th>Events Attended in Lifetime</th>\n",
       "      <th># of Instances of Volunteering</th>\n",
       "      <th># of Clicks in the Past Month</th>\n",
       "    </tr>\n",
       "  </thead>\n",
       "  <tbody>\n",
       "    <tr>\n",
       "      <th>count</th>\n",
       "      <td>50000.000000</td>\n",
       "      <td>50000.000000</td>\n",
       "      <td>5.000000e+04</td>\n",
       "      <td>16086.000000</td>\n",
       "      <td>16086.000000</td>\n",
       "      <td>1.608800e+04</td>\n",
       "      <td>50000.000000</td>\n",
       "      <td>50000.000000</td>\n",
       "      <td>50000.000000</td>\n",
       "    </tr>\n",
       "    <tr>\n",
       "      <th>mean</th>\n",
       "      <td>125000.500000</td>\n",
       "      <td>1985.034260</td>\n",
       "      <td>4.782636e+03</td>\n",
       "      <td>1991.617058</td>\n",
       "      <td>1985.618737</td>\n",
       "      <td>6.856570e+03</td>\n",
       "      <td>7.496000</td>\n",
       "      <td>1.285700</td>\n",
       "      <td>12.105340</td>\n",
       "    </tr>\n",
       "    <tr>\n",
       "      <th>std</th>\n",
       "      <td>14433.901067</td>\n",
       "      <td>20.880956</td>\n",
       "      <td>1.371378e+05</td>\n",
       "      <td>17.985134</td>\n",
       "      <td>18.413239</td>\n",
       "      <td>6.143246e+04</td>\n",
       "      <td>4.592259</td>\n",
       "      <td>1.160578</td>\n",
       "      <td>6.860629</td>\n",
       "    </tr>\n",
       "    <tr>\n",
       "      <th>min</th>\n",
       "      <td>100001.000000</td>\n",
       "      <td>1929.000000</td>\n",
       "      <td>0.000000e+00</td>\n",
       "      <td>1934.000000</td>\n",
       "      <td>1933.000000</td>\n",
       "      <td>0.000000e+00</td>\n",
       "      <td>0.000000</td>\n",
       "      <td>0.000000</td>\n",
       "      <td>0.000000</td>\n",
       "    </tr>\n",
       "    <tr>\n",
       "      <th>25%</th>\n",
       "      <td>112500.750000</td>\n",
       "      <td>1970.000000</td>\n",
       "      <td>0.000000e+00</td>\n",
       "      <td>1979.000000</td>\n",
       "      <td>1972.000000</td>\n",
       "      <td>5.300000e+01</td>\n",
       "      <td>4.000000</td>\n",
       "      <td>0.000000</td>\n",
       "      <td>6.000000</td>\n",
       "    </tr>\n",
       "    <tr>\n",
       "      <th>50%</th>\n",
       "      <td>125000.500000</td>\n",
       "      <td>1989.000000</td>\n",
       "      <td>0.000000e+00</td>\n",
       "      <td>1995.000000</td>\n",
       "      <td>1988.000000</td>\n",
       "      <td>5.020000e+02</td>\n",
       "      <td>8.000000</td>\n",
       "      <td>1.000000</td>\n",
       "      <td>13.000000</td>\n",
       "    </tr>\n",
       "    <tr>\n",
       "      <th>75%</th>\n",
       "      <td>137500.250000</td>\n",
       "      <td>2003.000000</td>\n",
       "      <td>1.050000e+02</td>\n",
       "      <td>2007.000000</td>\n",
       "      <td>2001.000000</td>\n",
       "      <td>6.259500e+03</td>\n",
       "      <td>11.000000</td>\n",
       "      <td>2.000000</td>\n",
       "      <td>18.000000</td>\n",
       "    </tr>\n",
       "    <tr>\n",
       "      <th>max</th>\n",
       "      <td>150000.000000</td>\n",
       "      <td>2015.000000</td>\n",
       "      <td>2.906088e+07</td>\n",
       "      <td>2015.000000</td>\n",
       "      <td>2015.000000</td>\n",
       "      <td>5.521567e+06</td>\n",
       "      <td>15.000000</td>\n",
       "      <td>3.000000</td>\n",
       "      <td>35.000000</td>\n",
       "    </tr>\n",
       "  </tbody>\n",
       "</table>\n",
       "</div>"
      ],
      "text/plain": [
       "           ID Number  Year of Graduation  Lifetime Giving  Year of Last Gift  \\\n",
       "count   50000.000000        50000.000000     5.000000e+04       16086.000000   \n",
       "mean   125000.500000         1985.034260     4.782636e+03        1991.617058   \n",
       "std     14433.901067           20.880956     1.371378e+05          17.985134   \n",
       "min    100001.000000         1929.000000     0.000000e+00        1934.000000   \n",
       "25%    112500.750000         1970.000000     0.000000e+00        1979.000000   \n",
       "50%    125000.500000         1989.000000     0.000000e+00        1995.000000   \n",
       "75%    137500.250000         2003.000000     1.050000e+02        2007.000000   \n",
       "max    150000.000000         2015.000000     2.906088e+07        2015.000000   \n",
       "\n",
       "       Year of First Gift  Largest Gift  Events Attended in Lifetime  \\\n",
       "count        16086.000000  1.608800e+04                 50000.000000   \n",
       "mean          1985.618737  6.856570e+03                     7.496000   \n",
       "std             18.413239  6.143246e+04                     4.592259   \n",
       "min           1933.000000  0.000000e+00                     0.000000   \n",
       "25%           1972.000000  5.300000e+01                     4.000000   \n",
       "50%           1988.000000  5.020000e+02                     8.000000   \n",
       "75%           2001.000000  6.259500e+03                    11.000000   \n",
       "max           2015.000000  5.521567e+06                    15.000000   \n",
       "\n",
       "       # of Instances of Volunteering  # of Clicks in the Past Month  \n",
       "count                    50000.000000                   50000.000000  \n",
       "mean                         1.285700                      12.105340  \n",
       "std                          1.160578                       6.860629  \n",
       "min                          0.000000                       0.000000  \n",
       "25%                          0.000000                       6.000000  \n",
       "50%                          1.000000                      13.000000  \n",
       "75%                          2.000000                      18.000000  \n",
       "max                          3.000000                      35.000000  "
      ]
     },
     "execution_count": 8,
     "metadata": {},
     "output_type": "execute_result"
    }
   ],
   "source": [
    "data_set.describe()"
   ]
  },
  {
   "cell_type": "code",
   "execution_count": 9,
   "metadata": {},
   "outputs": [
    {
     "data": {
      "text/plain": [
       "ID Number                             0\n",
       "Title                             47510\n",
       "Preferred Language                    0\n",
       "Gender                                0\n",
       "Relationship Types                    0\n",
       "Faculty of Graduation                 0\n",
       "Year of Graduation                    0\n",
       "Province                              0\n",
       "Lifetime Giving                       0\n",
       "Year of Last Gift                 33914\n",
       "Year of First Gift                33914\n",
       "Largest Gift                      33912\n",
       "Events Attended in Lifetime           0\n",
       "Past Traveler Y/N                     0\n",
       "# of Instances of Volunteering        0\n",
       "# of Clicks in the Past Month         0\n",
       "dtype: int64"
      ]
     },
     "execution_count": 9,
     "metadata": {},
     "output_type": "execute_result"
    }
   ],
   "source": [
    "data_set.isnull().sum()"
   ]
  },
  {
   "cell_type": "code",
   "execution_count": 10,
   "metadata": {},
   "outputs": [],
   "source": [
    "data_set[\"Year of Last Gift\"].fillna(0, inplace = True)\n"
   ]
  },
  {
   "cell_type": "code",
   "execution_count": 11,
   "metadata": {},
   "outputs": [
    {
     "data": {
      "text/plain": [
       "ID Number                             0\n",
       "Title                             47510\n",
       "Preferred Language                    0\n",
       "Gender                                0\n",
       "Relationship Types                    0\n",
       "Faculty of Graduation                 0\n",
       "Year of Graduation                    0\n",
       "Province                              0\n",
       "Lifetime Giving                       0\n",
       "Year of Last Gift                     0\n",
       "Year of First Gift                33914\n",
       "Largest Gift                      33912\n",
       "Events Attended in Lifetime           0\n",
       "Past Traveler Y/N                     0\n",
       "# of Instances of Volunteering        0\n",
       "# of Clicks in the Past Month         0\n",
       "dtype: int64"
      ]
     },
     "execution_count": 11,
     "metadata": {},
     "output_type": "execute_result"
    }
   ],
   "source": [
    "data_set.isnull().sum()"
   ]
  },
  {
   "cell_type": "code",
   "execution_count": 12,
   "metadata": {},
   "outputs": [
    {
     "data": {
      "text/plain": [
       "ID Number                             0\n",
       "Title                             47510\n",
       "Preferred Language                    0\n",
       "Gender                                0\n",
       "Relationship Types                    0\n",
       "Faculty of Graduation                 0\n",
       "Year of Graduation                    0\n",
       "Province                              0\n",
       "Lifetime Giving                       0\n",
       "Year of Last Gift                     0\n",
       "Year of First Gift                    0\n",
       "Largest Gift                          0\n",
       "Events Attended in Lifetime           0\n",
       "Past Traveler Y/N                     0\n",
       "# of Instances of Volunteering        0\n",
       "# of Clicks in the Past Month         0\n",
       "dtype: int64"
      ]
     },
     "execution_count": 12,
     "metadata": {},
     "output_type": "execute_result"
    }
   ],
   "source": [
    "data_set[\"Year of First Gift\"].fillna(0, inplace = True)\n",
    "data_set[\"Largest Gift\"].fillna(0, inplace = True)\n",
    "data_set.isnull().sum()"
   ]
  },
  {
   "cell_type": "code",
   "execution_count": 15,
   "metadata": {},
   "outputs": [],
   "source": [
    "df_1 = data_set[data_set['Lifetime Giving'] == 0]"
   ]
  },
  {
   "cell_type": "code",
   "execution_count": 16,
   "metadata": {},
   "outputs": [
    {
     "data": {
      "text/plain": [
       "0    33914\n",
       "Name: Lifetime Giving, dtype: int64"
      ]
     },
     "execution_count": 16,
     "metadata": {},
     "output_type": "execute_result"
    }
   ],
   "source": [
    "df_1['Lifetime Giving'].value_counts()"
   ]
  },
  {
   "cell_type": "markdown",
   "metadata": {},
   "source": [
    "# Cleaning the data "
   ]
  },
  {
   "cell_type": "code",
   "execution_count": 17,
   "metadata": {},
   "outputs": [],
   "source": [
    "data_set.Province = data_set.Province.apply(['ON', 'NB', 'BC', 'QC', 'SK', 'NS', 'AB', 'MB', 'NL', 'PE', 'NT','YT'].index)"
   ]
  },
  {
   "cell_type": "code",
   "execution_count": 18,
   "metadata": {},
   "outputs": [],
   "source": [
    "data_set.Gender = data_set.Gender.apply(['M', 'F', 'U'].index)"
   ]
  },
  {
   "cell_type": "code",
   "execution_count": 19,
   "metadata": {},
   "outputs": [],
   "source": [
    "data_set['Relationship Types']= data_set['Relationship Types'].apply(['Graduate', 'Graduate, Former Faculty/Staff',\n",
    "       'Graduate, Past Student',\n",
    "       'Graduate, Past Parent, Former Faculty/Staff',\n",
    "       'Graduate, Former Faculty/Staff, Past Student',\n",
    "       'Graduate, Past Parent', 'Graduate, Current Parent',\n",
    "       'Graduate, Student', 'Graduate, Faculty/Staff',\n",
    "       'Graduate, Grandparent, Past Parent',\n",
    "       'Graduate, Former Faculty/Staff, Student', 'Graduate, Grandparent',\n",
    "       'Graduate, Past Parent, Faculty/Staff',\n",
    "       'Graduate, Grandparent, Former Faculty/Staff',\n",
    "       'Graduate, Faculty/Staff, Past Student',\n",
    "       'Graduate, Grandparent, Past Parent, Former Faculty/Staff',\n",
    "       'Graduate, Current Parent, Faculty/Staff',\n",
    "       'Graduate, Current Parent, Former Faculty/Staff',\n",
    "       'Graduate, Current Parent, Past Student',\n",
    "       'Graduate, Widow/er of a Grad',\n",
    "       'Graduate, Past Parent, Past Student'].index)"
   ]
  },
  {
   "cell_type": "code",
   "execution_count": 20,
   "metadata": {},
   "outputs": [],
   "source": [
    "data_set['Faculty of Graduation']= data_set['Faculty of Graduation'].apply(['Medicine -- General', 'Arts -- General', 'Science -- General',\n",
    "       'Education -- General', 'Management', 'Engineer -- General',\n",
    "       'Engineer -- Architect', 'Medicine -- Nursing', 'Law',\n",
    "       'Agr&Env -- General', 'Medicine -- POT', 'Agr&Env -- Dietetics',\n",
    "       'Arts -- Social Work', 'Arts -- Information (Library) Studies',\n",
    "       'Dentistry', 'Music', 'Religious Studies', 'Continuing Education',\n",
    "       'Engineer -- Urban', 'Medicine -- Com Sci', 'Arts -- MSE',\n",
    "       'Science -- Computer', 'Science -- MSE', 'Agr&Env -- MSE',\n",
    "       'UNKNOWN'].index)"
   ]
  },
  {
   "cell_type": "code",
   "execution_count": 21,
   "metadata": {},
   "outputs": [],
   "source": [
    "data_set['Past Traveler Y/N'] = data_set['Past Traveler Y/N'].apply(['N', 'Y'].index)"
   ]
  },
  {
   "cell_type": "code",
   "execution_count": 22,
   "metadata": {},
   "outputs": [
    {
     "data": {
      "text/html": [
       "<div>\n",
       "<style scoped>\n",
       "    .dataframe tbody tr th:only-of-type {\n",
       "        vertical-align: middle;\n",
       "    }\n",
       "\n",
       "    .dataframe tbody tr th {\n",
       "        vertical-align: top;\n",
       "    }\n",
       "\n",
       "    .dataframe thead th {\n",
       "        text-align: right;\n",
       "    }\n",
       "</style>\n",
       "<table border=\"1\" class=\"dataframe\">\n",
       "  <thead>\n",
       "    <tr style=\"text-align: right;\">\n",
       "      <th></th>\n",
       "      <th>ID Number</th>\n",
       "      <th>Title</th>\n",
       "      <th>Preferred Language</th>\n",
       "      <th>Gender</th>\n",
       "      <th>Relationship Types</th>\n",
       "      <th>Faculty of Graduation</th>\n",
       "      <th>Year of Graduation</th>\n",
       "      <th>Province</th>\n",
       "      <th>Lifetime Giving</th>\n",
       "      <th>Year of Last Gift</th>\n",
       "      <th>Year of First Gift</th>\n",
       "      <th>Largest Gift</th>\n",
       "      <th>Events Attended in Lifetime</th>\n",
       "      <th>Past Traveler Y/N</th>\n",
       "      <th># of Instances of Volunteering</th>\n",
       "      <th># of Clicks in the Past Month</th>\n",
       "    </tr>\n",
       "  </thead>\n",
       "  <tbody>\n",
       "    <tr>\n",
       "      <th>0</th>\n",
       "      <td>100001</td>\n",
       "      <td>NaN</td>\n",
       "      <td>E</td>\n",
       "      <td>0</td>\n",
       "      <td>0</td>\n",
       "      <td>0</td>\n",
       "      <td>1968</td>\n",
       "      <td>0</td>\n",
       "      <td>73600</td>\n",
       "      <td>1997.0</td>\n",
       "      <td>1978.0</td>\n",
       "      <td>22080.0</td>\n",
       "      <td>0</td>\n",
       "      <td>0</td>\n",
       "      <td>0</td>\n",
       "      <td>27</td>\n",
       "    </tr>\n",
       "    <tr>\n",
       "      <th>8</th>\n",
       "      <td>100009</td>\n",
       "      <td>NaN</td>\n",
       "      <td>E</td>\n",
       "      <td>0</td>\n",
       "      <td>0</td>\n",
       "      <td>8</td>\n",
       "      <td>1959</td>\n",
       "      <td>0</td>\n",
       "      <td>125043</td>\n",
       "      <td>1958.0</td>\n",
       "      <td>1958.0</td>\n",
       "      <td>71275.0</td>\n",
       "      <td>7</td>\n",
       "      <td>0</td>\n",
       "      <td>1</td>\n",
       "      <td>28</td>\n",
       "    </tr>\n",
       "    <tr>\n",
       "      <th>14</th>\n",
       "      <td>100015</td>\n",
       "      <td>NaN</td>\n",
       "      <td>F</td>\n",
       "      <td>1</td>\n",
       "      <td>0</td>\n",
       "      <td>1</td>\n",
       "      <td>1965</td>\n",
       "      <td>1</td>\n",
       "      <td>45740</td>\n",
       "      <td>1979.0</td>\n",
       "      <td>1978.0</td>\n",
       "      <td>1372.0</td>\n",
       "      <td>9</td>\n",
       "      <td>0</td>\n",
       "      <td>0</td>\n",
       "      <td>15</td>\n",
       "    </tr>\n",
       "    <tr>\n",
       "      <th>23</th>\n",
       "      <td>100024</td>\n",
       "      <td>NaN</td>\n",
       "      <td>E</td>\n",
       "      <td>0</td>\n",
       "      <td>0</td>\n",
       "      <td>5</td>\n",
       "      <td>1954</td>\n",
       "      <td>0</td>\n",
       "      <td>21665</td>\n",
       "      <td>1954.0</td>\n",
       "      <td>1953.0</td>\n",
       "      <td>16249.0</td>\n",
       "      <td>3</td>\n",
       "      <td>0</td>\n",
       "      <td>2</td>\n",
       "      <td>17</td>\n",
       "    </tr>\n",
       "    <tr>\n",
       "      <th>25</th>\n",
       "      <td>100026</td>\n",
       "      <td>NaN</td>\n",
       "      <td>E</td>\n",
       "      <td>0</td>\n",
       "      <td>0</td>\n",
       "      <td>4</td>\n",
       "      <td>1964</td>\n",
       "      <td>0</td>\n",
       "      <td>103515</td>\n",
       "      <td>1981.0</td>\n",
       "      <td>1963.0</td>\n",
       "      <td>53828.0</td>\n",
       "      <td>3</td>\n",
       "      <td>0</td>\n",
       "      <td>0</td>\n",
       "      <td>21</td>\n",
       "    </tr>\n",
       "    <tr>\n",
       "      <th>...</th>\n",
       "      <td>...</td>\n",
       "      <td>...</td>\n",
       "      <td>...</td>\n",
       "      <td>...</td>\n",
       "      <td>...</td>\n",
       "      <td>...</td>\n",
       "      <td>...</td>\n",
       "      <td>...</td>\n",
       "      <td>...</td>\n",
       "      <td>...</td>\n",
       "      <td>...</td>\n",
       "      <td>...</td>\n",
       "      <td>...</td>\n",
       "      <td>...</td>\n",
       "      <td>...</td>\n",
       "      <td>...</td>\n",
       "    </tr>\n",
       "    <tr>\n",
       "      <th>49970</th>\n",
       "      <td>149971</td>\n",
       "      <td>NaN</td>\n",
       "      <td></td>\n",
       "      <td>1</td>\n",
       "      <td>0</td>\n",
       "      <td>1</td>\n",
       "      <td>1974</td>\n",
       "      <td>3</td>\n",
       "      <td>27151</td>\n",
       "      <td>2000.0</td>\n",
       "      <td>1991.0</td>\n",
       "      <td>11675.0</td>\n",
       "      <td>4</td>\n",
       "      <td>0</td>\n",
       "      <td>0</td>\n",
       "      <td>18</td>\n",
       "    </tr>\n",
       "    <tr>\n",
       "      <th>49971</th>\n",
       "      <td>149972</td>\n",
       "      <td>NaN</td>\n",
       "      <td>E</td>\n",
       "      <td>0</td>\n",
       "      <td>0</td>\n",
       "      <td>0</td>\n",
       "      <td>1996</td>\n",
       "      <td>3</td>\n",
       "      <td>26696</td>\n",
       "      <td>2002.0</td>\n",
       "      <td>1999.0</td>\n",
       "      <td>21357.0</td>\n",
       "      <td>5</td>\n",
       "      <td>0</td>\n",
       "      <td>3</td>\n",
       "      <td>15</td>\n",
       "    </tr>\n",
       "    <tr>\n",
       "      <th>49974</th>\n",
       "      <td>149975</td>\n",
       "      <td>NaN</td>\n",
       "      <td>E</td>\n",
       "      <td>1</td>\n",
       "      <td>0</td>\n",
       "      <td>2</td>\n",
       "      <td>1985</td>\n",
       "      <td>2</td>\n",
       "      <td>31594</td>\n",
       "      <td>1996.0</td>\n",
       "      <td>1987.0</td>\n",
       "      <td>13269.0</td>\n",
       "      <td>3</td>\n",
       "      <td>0</td>\n",
       "      <td>1</td>\n",
       "      <td>16</td>\n",
       "    </tr>\n",
       "    <tr>\n",
       "      <th>49983</th>\n",
       "      <td>149984</td>\n",
       "      <td>NaN</td>\n",
       "      <td>E</td>\n",
       "      <td>0</td>\n",
       "      <td>0</td>\n",
       "      <td>15</td>\n",
       "      <td>2008</td>\n",
       "      <td>3</td>\n",
       "      <td>49825</td>\n",
       "      <td>2006.0</td>\n",
       "      <td>2006.0</td>\n",
       "      <td>38864.0</td>\n",
       "      <td>6</td>\n",
       "      <td>1</td>\n",
       "      <td>2</td>\n",
       "      <td>16</td>\n",
       "    </tr>\n",
       "    <tr>\n",
       "      <th>49996</th>\n",
       "      <td>149997</td>\n",
       "      <td>NaN</td>\n",
       "      <td>E</td>\n",
       "      <td>1</td>\n",
       "      <td>0</td>\n",
       "      <td>1</td>\n",
       "      <td>1992</td>\n",
       "      <td>7</td>\n",
       "      <td>38181</td>\n",
       "      <td>1999.0</td>\n",
       "      <td>1993.0</td>\n",
       "      <td>35890.0</td>\n",
       "      <td>8</td>\n",
       "      <td>0</td>\n",
       "      <td>1</td>\n",
       "      <td>20</td>\n",
       "    </tr>\n",
       "  </tbody>\n",
       "</table>\n",
       "<p>3848 rows × 16 columns</p>\n",
       "</div>"
      ],
      "text/plain": [
       "       ID Number Title Preferred Language  Gender  Relationship Types  \\\n",
       "0         100001   NaN                  E       0                   0   \n",
       "8         100009   NaN                  E       0                   0   \n",
       "14        100015   NaN                  F       1                   0   \n",
       "23        100024   NaN                  E       0                   0   \n",
       "25        100026   NaN                  E       0                   0   \n",
       "...          ...   ...                ...     ...                 ...   \n",
       "49970     149971   NaN                          1                   0   \n",
       "49971     149972   NaN                  E       0                   0   \n",
       "49974     149975   NaN                  E       1                   0   \n",
       "49983     149984   NaN                  E       0                   0   \n",
       "49996     149997   NaN                  E       1                   0   \n",
       "\n",
       "       Faculty of Graduation  Year of Graduation  Province  Lifetime Giving  \\\n",
       "0                          0                1968         0            73600   \n",
       "8                          8                1959         0           125043   \n",
       "14                         1                1965         1            45740   \n",
       "23                         5                1954         0            21665   \n",
       "25                         4                1964         0           103515   \n",
       "...                      ...                 ...       ...              ...   \n",
       "49970                      1                1974         3            27151   \n",
       "49971                      0                1996         3            26696   \n",
       "49974                      2                1985         2            31594   \n",
       "49983                     15                2008         3            49825   \n",
       "49996                      1                1992         7            38181   \n",
       "\n",
       "       Year of Last Gift  Year of First Gift  Largest Gift  \\\n",
       "0                 1997.0              1978.0       22080.0   \n",
       "8                 1958.0              1958.0       71275.0   \n",
       "14                1979.0              1978.0        1372.0   \n",
       "23                1954.0              1953.0       16249.0   \n",
       "25                1981.0              1963.0       53828.0   \n",
       "...                  ...                 ...           ...   \n",
       "49970             2000.0              1991.0       11675.0   \n",
       "49971             2002.0              1999.0       21357.0   \n",
       "49974             1996.0              1987.0       13269.0   \n",
       "49983             2006.0              2006.0       38864.0   \n",
       "49996             1999.0              1993.0       35890.0   \n",
       "\n",
       "       Events Attended in Lifetime  Past Traveler Y/N  \\\n",
       "0                                0                  0   \n",
       "8                                7                  0   \n",
       "14                               9                  0   \n",
       "23                               3                  0   \n",
       "25                               3                  0   \n",
       "...                            ...                ...   \n",
       "49970                            4                  0   \n",
       "49971                            5                  0   \n",
       "49974                            3                  0   \n",
       "49983                            6                  1   \n",
       "49996                            8                  0   \n",
       "\n",
       "       # of Instances of Volunteering  # of Clicks in the Past Month  \n",
       "0                                   0                             27  \n",
       "8                                   1                             28  \n",
       "14                                  0                             15  \n",
       "23                                  2                             17  \n",
       "25                                  0                             21  \n",
       "...                               ...                            ...  \n",
       "49970                               0                             18  \n",
       "49971                               3                             15  \n",
       "49974                               1                             16  \n",
       "49983                               2                             16  \n",
       "49996                               1                             20  \n",
       "\n",
       "[3848 rows x 16 columns]"
      ]
     },
     "execution_count": 22,
     "metadata": {},
     "output_type": "execute_result"
    }
   ],
   "source": [
    "data_set[(data_set['Lifetime Giving'] > 20000)]"
   ]
  },
  {
   "cell_type": "markdown",
   "metadata": {},
   "source": [
    "* 33000 - approx 0\n",
    "* 3483 - between 0 and 100\n",
    "* 4115 - between 100 and 1000\n",
    "* 2294 - between 1000 and 5000\n",
    "* 2346 - between 5000 and 20000\n",
    "* 3848 - more than 20000"
   ]
  },
  {
   "cell_type": "markdown",
   "metadata": {},
   "source": [
    "## Create Donor Classes as per distribution above"
   ]
  },
  {
   "cell_type": "markdown",
   "metadata": {},
   "source": [
    "DF with zero and non-zero donor classes"
   ]
  },
  {
   "cell_type": "code",
   "execution_count": 23,
   "metadata": {},
   "outputs": [],
   "source": [
    "raw_data = data_set.copy()"
   ]
  },
  {
   "cell_type": "code",
   "execution_count": 24,
   "metadata": {},
   "outputs": [],
   "source": [
    "raw_data['Donor Type'] = np.nan"
   ]
  },
  {
   "cell_type": "code",
   "execution_count": 25,
   "metadata": {},
   "outputs": [],
   "source": [
    "for i in range(0,len(raw_data)):\n",
    "    if (raw_data.loc[i][8] == 0):\n",
    "        raw_data.at[i,'Donor Type'] = 0\n",
    "    else:\n",
    "        raw_data.at[i,'Donor Type'] = 1"
   ]
  },
  {
   "cell_type": "code",
   "execution_count": 26,
   "metadata": {},
   "outputs": [
    {
     "data": {
      "text/html": [
       "<div>\n",
       "<style scoped>\n",
       "    .dataframe tbody tr th:only-of-type {\n",
       "        vertical-align: middle;\n",
       "    }\n",
       "\n",
       "    .dataframe tbody tr th {\n",
       "        vertical-align: top;\n",
       "    }\n",
       "\n",
       "    .dataframe thead th {\n",
       "        text-align: right;\n",
       "    }\n",
       "</style>\n",
       "<table border=\"1\" class=\"dataframe\">\n",
       "  <thead>\n",
       "    <tr style=\"text-align: right;\">\n",
       "      <th></th>\n",
       "      <th>ID Number</th>\n",
       "      <th>Title</th>\n",
       "      <th>Preferred Language</th>\n",
       "      <th>Gender</th>\n",
       "      <th>Relationship Types</th>\n",
       "      <th>Faculty of Graduation</th>\n",
       "      <th>Year of Graduation</th>\n",
       "      <th>Province</th>\n",
       "      <th>Lifetime Giving</th>\n",
       "      <th>Year of Last Gift</th>\n",
       "      <th>Year of First Gift</th>\n",
       "      <th>Largest Gift</th>\n",
       "      <th>Events Attended in Lifetime</th>\n",
       "      <th>Past Traveler Y/N</th>\n",
       "      <th># of Instances of Volunteering</th>\n",
       "      <th># of Clicks in the Past Month</th>\n",
       "      <th>Donor Type</th>\n",
       "    </tr>\n",
       "  </thead>\n",
       "  <tbody>\n",
       "    <tr>\n",
       "      <th>0</th>\n",
       "      <td>100001</td>\n",
       "      <td>NaN</td>\n",
       "      <td>E</td>\n",
       "      <td>0</td>\n",
       "      <td>0</td>\n",
       "      <td>0</td>\n",
       "      <td>1968</td>\n",
       "      <td>0</td>\n",
       "      <td>73600</td>\n",
       "      <td>1997.0</td>\n",
       "      <td>1978.0</td>\n",
       "      <td>22080.0</td>\n",
       "      <td>0</td>\n",
       "      <td>0</td>\n",
       "      <td>0</td>\n",
       "      <td>27</td>\n",
       "      <td>1.0</td>\n",
       "    </tr>\n",
       "    <tr>\n",
       "      <th>1</th>\n",
       "      <td>100002</td>\n",
       "      <td>NaN</td>\n",
       "      <td>E</td>\n",
       "      <td>0</td>\n",
       "      <td>0</td>\n",
       "      <td>1</td>\n",
       "      <td>1958</td>\n",
       "      <td>1</td>\n",
       "      <td>8035</td>\n",
       "      <td>1962.0</td>\n",
       "      <td>1961.0</td>\n",
       "      <td>1768.0</td>\n",
       "      <td>14</td>\n",
       "      <td>0</td>\n",
       "      <td>1</td>\n",
       "      <td>19</td>\n",
       "      <td>1.0</td>\n",
       "    </tr>\n",
       "    <tr>\n",
       "      <th>2</th>\n",
       "      <td>100003</td>\n",
       "      <td>NaN</td>\n",
       "      <td>E</td>\n",
       "      <td>1</td>\n",
       "      <td>0</td>\n",
       "      <td>2</td>\n",
       "      <td>1963</td>\n",
       "      <td>0</td>\n",
       "      <td>9675</td>\n",
       "      <td>1961.0</td>\n",
       "      <td>1961.0</td>\n",
       "      <td>3483.0</td>\n",
       "      <td>15</td>\n",
       "      <td>0</td>\n",
       "      <td>1</td>\n",
       "      <td>18</td>\n",
       "      <td>1.0</td>\n",
       "    </tr>\n",
       "    <tr>\n",
       "      <th>3</th>\n",
       "      <td>100004</td>\n",
       "      <td>NaN</td>\n",
       "      <td></td>\n",
       "      <td>0</td>\n",
       "      <td>0</td>\n",
       "      <td>3</td>\n",
       "      <td>1960</td>\n",
       "      <td>2</td>\n",
       "      <td>4070</td>\n",
       "      <td>1990.0</td>\n",
       "      <td>1986.0</td>\n",
       "      <td>2768.0</td>\n",
       "      <td>14</td>\n",
       "      <td>0</td>\n",
       "      <td>2</td>\n",
       "      <td>10</td>\n",
       "      <td>1.0</td>\n",
       "    </tr>\n",
       "    <tr>\n",
       "      <th>4</th>\n",
       "      <td>100005</td>\n",
       "      <td>NaN</td>\n",
       "      <td>E</td>\n",
       "      <td>0</td>\n",
       "      <td>0</td>\n",
       "      <td>4</td>\n",
       "      <td>1955</td>\n",
       "      <td>3</td>\n",
       "      <td>13377</td>\n",
       "      <td>1970.0</td>\n",
       "      <td>1957.0</td>\n",
       "      <td>3077.0</td>\n",
       "      <td>0</td>\n",
       "      <td>0</td>\n",
       "      <td>0</td>\n",
       "      <td>16</td>\n",
       "      <td>1.0</td>\n",
       "    </tr>\n",
       "    <tr>\n",
       "      <th>...</th>\n",
       "      <td>...</td>\n",
       "      <td>...</td>\n",
       "      <td>...</td>\n",
       "      <td>...</td>\n",
       "      <td>...</td>\n",
       "      <td>...</td>\n",
       "      <td>...</td>\n",
       "      <td>...</td>\n",
       "      <td>...</td>\n",
       "      <td>...</td>\n",
       "      <td>...</td>\n",
       "      <td>...</td>\n",
       "      <td>...</td>\n",
       "      <td>...</td>\n",
       "      <td>...</td>\n",
       "      <td>...</td>\n",
       "      <td>...</td>\n",
       "    </tr>\n",
       "    <tr>\n",
       "      <th>49995</th>\n",
       "      <td>149996</td>\n",
       "      <td>NaN</td>\n",
       "      <td>E</td>\n",
       "      <td>0</td>\n",
       "      <td>0</td>\n",
       "      <td>5</td>\n",
       "      <td>1960</td>\n",
       "      <td>0</td>\n",
       "      <td>9174</td>\n",
       "      <td>1970.0</td>\n",
       "      <td>1969.0</td>\n",
       "      <td>5504.0</td>\n",
       "      <td>15</td>\n",
       "      <td>1</td>\n",
       "      <td>1</td>\n",
       "      <td>1</td>\n",
       "      <td>1.0</td>\n",
       "    </tr>\n",
       "    <tr>\n",
       "      <th>49996</th>\n",
       "      <td>149997</td>\n",
       "      <td>NaN</td>\n",
       "      <td>E</td>\n",
       "      <td>1</td>\n",
       "      <td>0</td>\n",
       "      <td>1</td>\n",
       "      <td>1992</td>\n",
       "      <td>7</td>\n",
       "      <td>38181</td>\n",
       "      <td>1999.0</td>\n",
       "      <td>1993.0</td>\n",
       "      <td>35890.0</td>\n",
       "      <td>8</td>\n",
       "      <td>0</td>\n",
       "      <td>1</td>\n",
       "      <td>20</td>\n",
       "      <td>1.0</td>\n",
       "    </tr>\n",
       "    <tr>\n",
       "      <th>49997</th>\n",
       "      <td>149998</td>\n",
       "      <td>NaN</td>\n",
       "      <td>E</td>\n",
       "      <td>1</td>\n",
       "      <td>0</td>\n",
       "      <td>1</td>\n",
       "      <td>1974</td>\n",
       "      <td>3</td>\n",
       "      <td>0</td>\n",
       "      <td>0.0</td>\n",
       "      <td>0.0</td>\n",
       "      <td>0.0</td>\n",
       "      <td>3</td>\n",
       "      <td>1</td>\n",
       "      <td>2</td>\n",
       "      <td>5</td>\n",
       "      <td>0.0</td>\n",
       "    </tr>\n",
       "    <tr>\n",
       "      <th>49998</th>\n",
       "      <td>149999</td>\n",
       "      <td>NaN</td>\n",
       "      <td>E</td>\n",
       "      <td>0</td>\n",
       "      <td>0</td>\n",
       "      <td>1</td>\n",
       "      <td>1967</td>\n",
       "      <td>0</td>\n",
       "      <td>0</td>\n",
       "      <td>0.0</td>\n",
       "      <td>0.0</td>\n",
       "      <td>0.0</td>\n",
       "      <td>1</td>\n",
       "      <td>0</td>\n",
       "      <td>0</td>\n",
       "      <td>12</td>\n",
       "      <td>0.0</td>\n",
       "    </tr>\n",
       "    <tr>\n",
       "      <th>49999</th>\n",
       "      <td>150000</td>\n",
       "      <td>NaN</td>\n",
       "      <td>E</td>\n",
       "      <td>0</td>\n",
       "      <td>0</td>\n",
       "      <td>4</td>\n",
       "      <td>1998</td>\n",
       "      <td>0</td>\n",
       "      <td>0</td>\n",
       "      <td>0.0</td>\n",
       "      <td>0.0</td>\n",
       "      <td>0.0</td>\n",
       "      <td>9</td>\n",
       "      <td>0</td>\n",
       "      <td>3</td>\n",
       "      <td>12</td>\n",
       "      <td>0.0</td>\n",
       "    </tr>\n",
       "  </tbody>\n",
       "</table>\n",
       "<p>50000 rows × 17 columns</p>\n",
       "</div>"
      ],
      "text/plain": [
       "       ID Number Title Preferred Language  Gender  Relationship Types  \\\n",
       "0         100001   NaN                  E       0                   0   \n",
       "1         100002   NaN                  E       0                   0   \n",
       "2         100003   NaN                  E       1                   0   \n",
       "3         100004   NaN                          0                   0   \n",
       "4         100005   NaN                  E       0                   0   \n",
       "...          ...   ...                ...     ...                 ...   \n",
       "49995     149996   NaN                  E       0                   0   \n",
       "49996     149997   NaN                  E       1                   0   \n",
       "49997     149998   NaN                  E       1                   0   \n",
       "49998     149999   NaN                  E       0                   0   \n",
       "49999     150000   NaN                  E       0                   0   \n",
       "\n",
       "       Faculty of Graduation  Year of Graduation  Province  Lifetime Giving  \\\n",
       "0                          0                1968         0            73600   \n",
       "1                          1                1958         1             8035   \n",
       "2                          2                1963         0             9675   \n",
       "3                          3                1960         2             4070   \n",
       "4                          4                1955         3            13377   \n",
       "...                      ...                 ...       ...              ...   \n",
       "49995                      5                1960         0             9174   \n",
       "49996                      1                1992         7            38181   \n",
       "49997                      1                1974         3                0   \n",
       "49998                      1                1967         0                0   \n",
       "49999                      4                1998         0                0   \n",
       "\n",
       "       Year of Last Gift  Year of First Gift  Largest Gift  \\\n",
       "0                 1997.0              1978.0       22080.0   \n",
       "1                 1962.0              1961.0        1768.0   \n",
       "2                 1961.0              1961.0        3483.0   \n",
       "3                 1990.0              1986.0        2768.0   \n",
       "4                 1970.0              1957.0        3077.0   \n",
       "...                  ...                 ...           ...   \n",
       "49995             1970.0              1969.0        5504.0   \n",
       "49996             1999.0              1993.0       35890.0   \n",
       "49997                0.0                 0.0           0.0   \n",
       "49998                0.0                 0.0           0.0   \n",
       "49999                0.0                 0.0           0.0   \n",
       "\n",
       "       Events Attended in Lifetime  Past Traveler Y/N  \\\n",
       "0                                0                  0   \n",
       "1                               14                  0   \n",
       "2                               15                  0   \n",
       "3                               14                  0   \n",
       "4                                0                  0   \n",
       "...                            ...                ...   \n",
       "49995                           15                  1   \n",
       "49996                            8                  0   \n",
       "49997                            3                  1   \n",
       "49998                            1                  0   \n",
       "49999                            9                  0   \n",
       "\n",
       "       # of Instances of Volunteering  # of Clicks in the Past Month  \\\n",
       "0                                   0                             27   \n",
       "1                                   1                             19   \n",
       "2                                   1                             18   \n",
       "3                                   2                             10   \n",
       "4                                   0                             16   \n",
       "...                               ...                            ...   \n",
       "49995                               1                              1   \n",
       "49996                               1                             20   \n",
       "49997                               2                              5   \n",
       "49998                               0                             12   \n",
       "49999                               3                             12   \n",
       "\n",
       "       Donor Type  \n",
       "0             1.0  \n",
       "1             1.0  \n",
       "2             1.0  \n",
       "3             1.0  \n",
       "4             1.0  \n",
       "...           ...  \n",
       "49995         1.0  \n",
       "49996         1.0  \n",
       "49997         0.0  \n",
       "49998         0.0  \n",
       "49999         0.0  \n",
       "\n",
       "[50000 rows x 17 columns]"
      ]
     },
     "execution_count": 26,
     "metadata": {},
     "output_type": "execute_result"
    }
   ],
   "source": [
    "raw_data"
   ]
  },
  {
   "cell_type": "markdown",
   "metadata": {},
   "source": [
    "DF with non-zero donors, distributed to classes"
   ]
  },
  {
   "cell_type": "code",
   "execution_count": 27,
   "metadata": {},
   "outputs": [],
   "source": [
    "df_1 = data_set[(data_set['Lifetime Giving'] > 0)]\n",
    "df_1.reset_index(inplace=True)"
   ]
  },
  {
   "cell_type": "code",
   "execution_count": 28,
   "metadata": {},
   "outputs": [
    {
     "name": "stderr",
     "output_type": "stream",
     "text": [
      "/var/folders/75/4l4td8zn2693tyx7ytdyh9v80000gn/T/ipykernel_25548/1173641066.py:1: SettingWithCopyWarning: \n",
      "A value is trying to be set on a copy of a slice from a DataFrame.\n",
      "Try using .loc[row_indexer,col_indexer] = value instead\n",
      "\n",
      "See the caveats in the documentation: https://pandas.pydata.org/pandas-docs/stable/user_guide/indexing.html#returning-a-view-versus-a-copy\n",
      "  df_1['Donor Class'] = np.nan\n"
     ]
    }
   ],
   "source": [
    "df_1['Donor Class'] = np.nan"
   ]
  },
  {
   "cell_type": "code",
   "execution_count": 29,
   "metadata": {},
   "outputs": [
    {
     "data": {
      "text/html": [
       "<div>\n",
       "<style scoped>\n",
       "    .dataframe tbody tr th:only-of-type {\n",
       "        vertical-align: middle;\n",
       "    }\n",
       "\n",
       "    .dataframe tbody tr th {\n",
       "        vertical-align: top;\n",
       "    }\n",
       "\n",
       "    .dataframe thead th {\n",
       "        text-align: right;\n",
       "    }\n",
       "</style>\n",
       "<table border=\"1\" class=\"dataframe\">\n",
       "  <thead>\n",
       "    <tr style=\"text-align: right;\">\n",
       "      <th></th>\n",
       "      <th>index</th>\n",
       "      <th>ID Number</th>\n",
       "      <th>Title</th>\n",
       "      <th>Preferred Language</th>\n",
       "      <th>Gender</th>\n",
       "      <th>Relationship Types</th>\n",
       "      <th>Faculty of Graduation</th>\n",
       "      <th>Year of Graduation</th>\n",
       "      <th>Province</th>\n",
       "      <th>Lifetime Giving</th>\n",
       "      <th>Year of Last Gift</th>\n",
       "      <th>Year of First Gift</th>\n",
       "      <th>Largest Gift</th>\n",
       "      <th>Events Attended in Lifetime</th>\n",
       "      <th>Past Traveler Y/N</th>\n",
       "      <th># of Instances of Volunteering</th>\n",
       "      <th># of Clicks in the Past Month</th>\n",
       "      <th>Donor Class</th>\n",
       "    </tr>\n",
       "  </thead>\n",
       "  <tbody>\n",
       "    <tr>\n",
       "      <th>0</th>\n",
       "      <td>0</td>\n",
       "      <td>100001</td>\n",
       "      <td>NaN</td>\n",
       "      <td>E</td>\n",
       "      <td>0</td>\n",
       "      <td>0</td>\n",
       "      <td>0</td>\n",
       "      <td>1968</td>\n",
       "      <td>0</td>\n",
       "      <td>73600</td>\n",
       "      <td>1997.0</td>\n",
       "      <td>1978.0</td>\n",
       "      <td>22080.0</td>\n",
       "      <td>0</td>\n",
       "      <td>0</td>\n",
       "      <td>0</td>\n",
       "      <td>27</td>\n",
       "      <td>NaN</td>\n",
       "    </tr>\n",
       "    <tr>\n",
       "      <th>1</th>\n",
       "      <td>1</td>\n",
       "      <td>100002</td>\n",
       "      <td>NaN</td>\n",
       "      <td>E</td>\n",
       "      <td>0</td>\n",
       "      <td>0</td>\n",
       "      <td>1</td>\n",
       "      <td>1958</td>\n",
       "      <td>1</td>\n",
       "      <td>8035</td>\n",
       "      <td>1962.0</td>\n",
       "      <td>1961.0</td>\n",
       "      <td>1768.0</td>\n",
       "      <td>14</td>\n",
       "      <td>0</td>\n",
       "      <td>1</td>\n",
       "      <td>19</td>\n",
       "      <td>NaN</td>\n",
       "    </tr>\n",
       "    <tr>\n",
       "      <th>2</th>\n",
       "      <td>2</td>\n",
       "      <td>100003</td>\n",
       "      <td>NaN</td>\n",
       "      <td>E</td>\n",
       "      <td>1</td>\n",
       "      <td>0</td>\n",
       "      <td>2</td>\n",
       "      <td>1963</td>\n",
       "      <td>0</td>\n",
       "      <td>9675</td>\n",
       "      <td>1961.0</td>\n",
       "      <td>1961.0</td>\n",
       "      <td>3483.0</td>\n",
       "      <td>15</td>\n",
       "      <td>0</td>\n",
       "      <td>1</td>\n",
       "      <td>18</td>\n",
       "      <td>NaN</td>\n",
       "    </tr>\n",
       "    <tr>\n",
       "      <th>3</th>\n",
       "      <td>3</td>\n",
       "      <td>100004</td>\n",
       "      <td>NaN</td>\n",
       "      <td></td>\n",
       "      <td>0</td>\n",
       "      <td>0</td>\n",
       "      <td>3</td>\n",
       "      <td>1960</td>\n",
       "      <td>2</td>\n",
       "      <td>4070</td>\n",
       "      <td>1990.0</td>\n",
       "      <td>1986.0</td>\n",
       "      <td>2768.0</td>\n",
       "      <td>14</td>\n",
       "      <td>0</td>\n",
       "      <td>2</td>\n",
       "      <td>10</td>\n",
       "      <td>NaN</td>\n",
       "    </tr>\n",
       "    <tr>\n",
       "      <th>4</th>\n",
       "      <td>4</td>\n",
       "      <td>100005</td>\n",
       "      <td>NaN</td>\n",
       "      <td>E</td>\n",
       "      <td>0</td>\n",
       "      <td>0</td>\n",
       "      <td>4</td>\n",
       "      <td>1955</td>\n",
       "      <td>3</td>\n",
       "      <td>13377</td>\n",
       "      <td>1970.0</td>\n",
       "      <td>1957.0</td>\n",
       "      <td>3077.0</td>\n",
       "      <td>0</td>\n",
       "      <td>0</td>\n",
       "      <td>0</td>\n",
       "      <td>16</td>\n",
       "      <td>NaN</td>\n",
       "    </tr>\n",
       "    <tr>\n",
       "      <th>...</th>\n",
       "      <td>...</td>\n",
       "      <td>...</td>\n",
       "      <td>...</td>\n",
       "      <td>...</td>\n",
       "      <td>...</td>\n",
       "      <td>...</td>\n",
       "      <td>...</td>\n",
       "      <td>...</td>\n",
       "      <td>...</td>\n",
       "      <td>...</td>\n",
       "      <td>...</td>\n",
       "      <td>...</td>\n",
       "      <td>...</td>\n",
       "      <td>...</td>\n",
       "      <td>...</td>\n",
       "      <td>...</td>\n",
       "      <td>...</td>\n",
       "      <td>...</td>\n",
       "    </tr>\n",
       "    <tr>\n",
       "      <th>16081</th>\n",
       "      <td>49983</td>\n",
       "      <td>149984</td>\n",
       "      <td>NaN</td>\n",
       "      <td>E</td>\n",
       "      <td>0</td>\n",
       "      <td>0</td>\n",
       "      <td>15</td>\n",
       "      <td>2008</td>\n",
       "      <td>3</td>\n",
       "      <td>49825</td>\n",
       "      <td>2006.0</td>\n",
       "      <td>2006.0</td>\n",
       "      <td>38864.0</td>\n",
       "      <td>6</td>\n",
       "      <td>1</td>\n",
       "      <td>2</td>\n",
       "      <td>16</td>\n",
       "      <td>NaN</td>\n",
       "    </tr>\n",
       "    <tr>\n",
       "      <th>16082</th>\n",
       "      <td>49984</td>\n",
       "      <td>149985</td>\n",
       "      <td>NaN</td>\n",
       "      <td></td>\n",
       "      <td>1</td>\n",
       "      <td>0</td>\n",
       "      <td>5</td>\n",
       "      <td>1993</td>\n",
       "      <td>0</td>\n",
       "      <td>12925</td>\n",
       "      <td>2009.0</td>\n",
       "      <td>2008.0</td>\n",
       "      <td>5299.0</td>\n",
       "      <td>6</td>\n",
       "      <td>0</td>\n",
       "      <td>0</td>\n",
       "      <td>17</td>\n",
       "      <td>NaN</td>\n",
       "    </tr>\n",
       "    <tr>\n",
       "      <th>16083</th>\n",
       "      <td>49994</td>\n",
       "      <td>149995</td>\n",
       "      <td>NaN</td>\n",
       "      <td>E</td>\n",
       "      <td>0</td>\n",
       "      <td>0</td>\n",
       "      <td>1</td>\n",
       "      <td>1948</td>\n",
       "      <td>9</td>\n",
       "      <td>4572</td>\n",
       "      <td>1968.0</td>\n",
       "      <td>1959.0</td>\n",
       "      <td>640.0</td>\n",
       "      <td>11</td>\n",
       "      <td>0</td>\n",
       "      <td>0</td>\n",
       "      <td>6</td>\n",
       "      <td>NaN</td>\n",
       "    </tr>\n",
       "    <tr>\n",
       "      <th>16084</th>\n",
       "      <td>49995</td>\n",
       "      <td>149996</td>\n",
       "      <td>NaN</td>\n",
       "      <td>E</td>\n",
       "      <td>0</td>\n",
       "      <td>0</td>\n",
       "      <td>5</td>\n",
       "      <td>1960</td>\n",
       "      <td>0</td>\n",
       "      <td>9174</td>\n",
       "      <td>1970.0</td>\n",
       "      <td>1969.0</td>\n",
       "      <td>5504.0</td>\n",
       "      <td>15</td>\n",
       "      <td>1</td>\n",
       "      <td>1</td>\n",
       "      <td>1</td>\n",
       "      <td>NaN</td>\n",
       "    </tr>\n",
       "    <tr>\n",
       "      <th>16085</th>\n",
       "      <td>49996</td>\n",
       "      <td>149997</td>\n",
       "      <td>NaN</td>\n",
       "      <td>E</td>\n",
       "      <td>1</td>\n",
       "      <td>0</td>\n",
       "      <td>1</td>\n",
       "      <td>1992</td>\n",
       "      <td>7</td>\n",
       "      <td>38181</td>\n",
       "      <td>1999.0</td>\n",
       "      <td>1993.0</td>\n",
       "      <td>35890.0</td>\n",
       "      <td>8</td>\n",
       "      <td>0</td>\n",
       "      <td>1</td>\n",
       "      <td>20</td>\n",
       "      <td>NaN</td>\n",
       "    </tr>\n",
       "  </tbody>\n",
       "</table>\n",
       "<p>16086 rows × 18 columns</p>\n",
       "</div>"
      ],
      "text/plain": [
       "       index  ID Number Title Preferred Language  Gender  Relationship Types  \\\n",
       "0          0     100001   NaN                  E       0                   0   \n",
       "1          1     100002   NaN                  E       0                   0   \n",
       "2          2     100003   NaN                  E       1                   0   \n",
       "3          3     100004   NaN                          0                   0   \n",
       "4          4     100005   NaN                  E       0                   0   \n",
       "...      ...        ...   ...                ...     ...                 ...   \n",
       "16081  49983     149984   NaN                  E       0                   0   \n",
       "16082  49984     149985   NaN                          1                   0   \n",
       "16083  49994     149995   NaN                  E       0                   0   \n",
       "16084  49995     149996   NaN                  E       0                   0   \n",
       "16085  49996     149997   NaN                  E       1                   0   \n",
       "\n",
       "       Faculty of Graduation  Year of Graduation  Province  Lifetime Giving  \\\n",
       "0                          0                1968         0            73600   \n",
       "1                          1                1958         1             8035   \n",
       "2                          2                1963         0             9675   \n",
       "3                          3                1960         2             4070   \n",
       "4                          4                1955         3            13377   \n",
       "...                      ...                 ...       ...              ...   \n",
       "16081                     15                2008         3            49825   \n",
       "16082                      5                1993         0            12925   \n",
       "16083                      1                1948         9             4572   \n",
       "16084                      5                1960         0             9174   \n",
       "16085                      1                1992         7            38181   \n",
       "\n",
       "       Year of Last Gift  Year of First Gift  Largest Gift  \\\n",
       "0                 1997.0              1978.0       22080.0   \n",
       "1                 1962.0              1961.0        1768.0   \n",
       "2                 1961.0              1961.0        3483.0   \n",
       "3                 1990.0              1986.0        2768.0   \n",
       "4                 1970.0              1957.0        3077.0   \n",
       "...                  ...                 ...           ...   \n",
       "16081             2006.0              2006.0       38864.0   \n",
       "16082             2009.0              2008.0        5299.0   \n",
       "16083             1968.0              1959.0         640.0   \n",
       "16084             1970.0              1969.0        5504.0   \n",
       "16085             1999.0              1993.0       35890.0   \n",
       "\n",
       "       Events Attended in Lifetime  Past Traveler Y/N  \\\n",
       "0                                0                  0   \n",
       "1                               14                  0   \n",
       "2                               15                  0   \n",
       "3                               14                  0   \n",
       "4                                0                  0   \n",
       "...                            ...                ...   \n",
       "16081                            6                  1   \n",
       "16082                            6                  0   \n",
       "16083                           11                  0   \n",
       "16084                           15                  1   \n",
       "16085                            8                  0   \n",
       "\n",
       "       # of Instances of Volunteering  # of Clicks in the Past Month  \\\n",
       "0                                   0                             27   \n",
       "1                                   1                             19   \n",
       "2                                   1                             18   \n",
       "3                                   2                             10   \n",
       "4                                   0                             16   \n",
       "...                               ...                            ...   \n",
       "16081                               2                             16   \n",
       "16082                               0                             17   \n",
       "16083                               0                              6   \n",
       "16084                               1                              1   \n",
       "16085                               1                             20   \n",
       "\n",
       "       Donor Class  \n",
       "0              NaN  \n",
       "1              NaN  \n",
       "2              NaN  \n",
       "3              NaN  \n",
       "4              NaN  \n",
       "...            ...  \n",
       "16081          NaN  \n",
       "16082          NaN  \n",
       "16083          NaN  \n",
       "16084          NaN  \n",
       "16085          NaN  \n",
       "\n",
       "[16086 rows x 18 columns]"
      ]
     },
     "execution_count": 29,
     "metadata": {},
     "output_type": "execute_result"
    }
   ],
   "source": [
    "df_1"
   ]
  },
  {
   "cell_type": "code",
   "execution_count": 36,
   "metadata": {},
   "outputs": [],
   "source": [
    "for i in range(0,len(df_1)):\n",
    "    if (df_1.loc[i][9] <= 100):\n",
    "        df_1.at[i,'Donor Class'] = 1\n",
    "    if (df_1.loc[i][9] > 100) & (df_1.loc[i][9] <= 1000):\n",
    "        df_1.at[i,'Donor Class'] = 2\n",
    "    if (df_1.loc[i][9] > 1000) & (df_1.loc[i][9] <= 5000):\n",
    "        df_1.at[i,'Donor Class'] = 3\n",
    "    if (df_1.loc[i][9] > 5000) & (df_1.loc[i][9] <= 20000):\n",
    "        df_1.at[i,'Donor Class'] = 4\n",
    "    if (df_1.loc[i][9] >= 20000):\n",
    "        df_1.at[i,'Donor Class'] = 5"
   ]
  },
  {
   "cell_type": "code",
   "execution_count": 37,
   "metadata": {},
   "outputs": [
    {
     "data": {
      "text/html": [
       "<div>\n",
       "<style scoped>\n",
       "    .dataframe tbody tr th:only-of-type {\n",
       "        vertical-align: middle;\n",
       "    }\n",
       "\n",
       "    .dataframe tbody tr th {\n",
       "        vertical-align: top;\n",
       "    }\n",
       "\n",
       "    .dataframe thead th {\n",
       "        text-align: right;\n",
       "    }\n",
       "</style>\n",
       "<table border=\"1\" class=\"dataframe\">\n",
       "  <thead>\n",
       "    <tr style=\"text-align: right;\">\n",
       "      <th></th>\n",
       "      <th>index</th>\n",
       "      <th>ID Number</th>\n",
       "      <th>Title</th>\n",
       "      <th>Preferred Language</th>\n",
       "      <th>Gender</th>\n",
       "      <th>Relationship Types</th>\n",
       "      <th>Faculty of Graduation</th>\n",
       "      <th>Year of Graduation</th>\n",
       "      <th>Province</th>\n",
       "      <th>Lifetime Giving</th>\n",
       "      <th>Year of Last Gift</th>\n",
       "      <th>Year of First Gift</th>\n",
       "      <th>Largest Gift</th>\n",
       "      <th>Events Attended in Lifetime</th>\n",
       "      <th>Past Traveler Y/N</th>\n",
       "      <th># of Instances of Volunteering</th>\n",
       "      <th># of Clicks in the Past Month</th>\n",
       "      <th>Donor Class</th>\n",
       "      <th>Donor Class 2</th>\n",
       "    </tr>\n",
       "  </thead>\n",
       "  <tbody>\n",
       "    <tr>\n",
       "      <th>0</th>\n",
       "      <td>0</td>\n",
       "      <td>100001</td>\n",
       "      <td>NaN</td>\n",
       "      <td>E</td>\n",
       "      <td>0</td>\n",
       "      <td>0</td>\n",
       "      <td>0</td>\n",
       "      <td>1968</td>\n",
       "      <td>0</td>\n",
       "      <td>73600</td>\n",
       "      <td>1997.0</td>\n",
       "      <td>1978.0</td>\n",
       "      <td>22080.0</td>\n",
       "      <td>0</td>\n",
       "      <td>0</td>\n",
       "      <td>0</td>\n",
       "      <td>27</td>\n",
       "      <td>5.0</td>\n",
       "      <td>1.0</td>\n",
       "    </tr>\n",
       "    <tr>\n",
       "      <th>1</th>\n",
       "      <td>1</td>\n",
       "      <td>100002</td>\n",
       "      <td>NaN</td>\n",
       "      <td>E</td>\n",
       "      <td>0</td>\n",
       "      <td>0</td>\n",
       "      <td>1</td>\n",
       "      <td>1958</td>\n",
       "      <td>1</td>\n",
       "      <td>8035</td>\n",
       "      <td>1962.0</td>\n",
       "      <td>1961.0</td>\n",
       "      <td>1768.0</td>\n",
       "      <td>14</td>\n",
       "      <td>0</td>\n",
       "      <td>1</td>\n",
       "      <td>19</td>\n",
       "      <td>4.0</td>\n",
       "      <td>1.0</td>\n",
       "    </tr>\n",
       "    <tr>\n",
       "      <th>2</th>\n",
       "      <td>2</td>\n",
       "      <td>100003</td>\n",
       "      <td>NaN</td>\n",
       "      <td>E</td>\n",
       "      <td>1</td>\n",
       "      <td>0</td>\n",
       "      <td>2</td>\n",
       "      <td>1963</td>\n",
       "      <td>0</td>\n",
       "      <td>9675</td>\n",
       "      <td>1961.0</td>\n",
       "      <td>1961.0</td>\n",
       "      <td>3483.0</td>\n",
       "      <td>15</td>\n",
       "      <td>0</td>\n",
       "      <td>1</td>\n",
       "      <td>18</td>\n",
       "      <td>4.0</td>\n",
       "      <td>1.0</td>\n",
       "    </tr>\n",
       "    <tr>\n",
       "      <th>3</th>\n",
       "      <td>3</td>\n",
       "      <td>100004</td>\n",
       "      <td>NaN</td>\n",
       "      <td></td>\n",
       "      <td>0</td>\n",
       "      <td>0</td>\n",
       "      <td>3</td>\n",
       "      <td>1960</td>\n",
       "      <td>2</td>\n",
       "      <td>4070</td>\n",
       "      <td>1990.0</td>\n",
       "      <td>1986.0</td>\n",
       "      <td>2768.0</td>\n",
       "      <td>14</td>\n",
       "      <td>0</td>\n",
       "      <td>2</td>\n",
       "      <td>10</td>\n",
       "      <td>3.0</td>\n",
       "      <td>0.0</td>\n",
       "    </tr>\n",
       "    <tr>\n",
       "      <th>4</th>\n",
       "      <td>4</td>\n",
       "      <td>100005</td>\n",
       "      <td>NaN</td>\n",
       "      <td>E</td>\n",
       "      <td>0</td>\n",
       "      <td>0</td>\n",
       "      <td>4</td>\n",
       "      <td>1955</td>\n",
       "      <td>3</td>\n",
       "      <td>13377</td>\n",
       "      <td>1970.0</td>\n",
       "      <td>1957.0</td>\n",
       "      <td>3077.0</td>\n",
       "      <td>0</td>\n",
       "      <td>0</td>\n",
       "      <td>0</td>\n",
       "      <td>16</td>\n",
       "      <td>4.0</td>\n",
       "      <td>1.0</td>\n",
       "    </tr>\n",
       "    <tr>\n",
       "      <th>...</th>\n",
       "      <td>...</td>\n",
       "      <td>...</td>\n",
       "      <td>...</td>\n",
       "      <td>...</td>\n",
       "      <td>...</td>\n",
       "      <td>...</td>\n",
       "      <td>...</td>\n",
       "      <td>...</td>\n",
       "      <td>...</td>\n",
       "      <td>...</td>\n",
       "      <td>...</td>\n",
       "      <td>...</td>\n",
       "      <td>...</td>\n",
       "      <td>...</td>\n",
       "      <td>...</td>\n",
       "      <td>...</td>\n",
       "      <td>...</td>\n",
       "      <td>...</td>\n",
       "      <td>...</td>\n",
       "    </tr>\n",
       "    <tr>\n",
       "      <th>16081</th>\n",
       "      <td>49983</td>\n",
       "      <td>149984</td>\n",
       "      <td>NaN</td>\n",
       "      <td>E</td>\n",
       "      <td>0</td>\n",
       "      <td>0</td>\n",
       "      <td>15</td>\n",
       "      <td>2008</td>\n",
       "      <td>3</td>\n",
       "      <td>49825</td>\n",
       "      <td>2006.0</td>\n",
       "      <td>2006.0</td>\n",
       "      <td>38864.0</td>\n",
       "      <td>6</td>\n",
       "      <td>1</td>\n",
       "      <td>2</td>\n",
       "      <td>16</td>\n",
       "      <td>5.0</td>\n",
       "      <td>1.0</td>\n",
       "    </tr>\n",
       "    <tr>\n",
       "      <th>16082</th>\n",
       "      <td>49984</td>\n",
       "      <td>149985</td>\n",
       "      <td>NaN</td>\n",
       "      <td></td>\n",
       "      <td>1</td>\n",
       "      <td>0</td>\n",
       "      <td>5</td>\n",
       "      <td>1993</td>\n",
       "      <td>0</td>\n",
       "      <td>12925</td>\n",
       "      <td>2009.0</td>\n",
       "      <td>2008.0</td>\n",
       "      <td>5299.0</td>\n",
       "      <td>6</td>\n",
       "      <td>0</td>\n",
       "      <td>0</td>\n",
       "      <td>17</td>\n",
       "      <td>4.0</td>\n",
       "      <td>1.0</td>\n",
       "    </tr>\n",
       "    <tr>\n",
       "      <th>16083</th>\n",
       "      <td>49994</td>\n",
       "      <td>149995</td>\n",
       "      <td>NaN</td>\n",
       "      <td>E</td>\n",
       "      <td>0</td>\n",
       "      <td>0</td>\n",
       "      <td>1</td>\n",
       "      <td>1948</td>\n",
       "      <td>9</td>\n",
       "      <td>4572</td>\n",
       "      <td>1968.0</td>\n",
       "      <td>1959.0</td>\n",
       "      <td>640.0</td>\n",
       "      <td>11</td>\n",
       "      <td>0</td>\n",
       "      <td>0</td>\n",
       "      <td>6</td>\n",
       "      <td>3.0</td>\n",
       "      <td>0.0</td>\n",
       "    </tr>\n",
       "    <tr>\n",
       "      <th>16084</th>\n",
       "      <td>49995</td>\n",
       "      <td>149996</td>\n",
       "      <td>NaN</td>\n",
       "      <td>E</td>\n",
       "      <td>0</td>\n",
       "      <td>0</td>\n",
       "      <td>5</td>\n",
       "      <td>1960</td>\n",
       "      <td>0</td>\n",
       "      <td>9174</td>\n",
       "      <td>1970.0</td>\n",
       "      <td>1969.0</td>\n",
       "      <td>5504.0</td>\n",
       "      <td>15</td>\n",
       "      <td>1</td>\n",
       "      <td>1</td>\n",
       "      <td>1</td>\n",
       "      <td>4.0</td>\n",
       "      <td>1.0</td>\n",
       "    </tr>\n",
       "    <tr>\n",
       "      <th>16085</th>\n",
       "      <td>49996</td>\n",
       "      <td>149997</td>\n",
       "      <td>NaN</td>\n",
       "      <td>E</td>\n",
       "      <td>1</td>\n",
       "      <td>0</td>\n",
       "      <td>1</td>\n",
       "      <td>1992</td>\n",
       "      <td>7</td>\n",
       "      <td>38181</td>\n",
       "      <td>1999.0</td>\n",
       "      <td>1993.0</td>\n",
       "      <td>35890.0</td>\n",
       "      <td>8</td>\n",
       "      <td>0</td>\n",
       "      <td>1</td>\n",
       "      <td>20</td>\n",
       "      <td>5.0</td>\n",
       "      <td>1.0</td>\n",
       "    </tr>\n",
       "  </tbody>\n",
       "</table>\n",
       "<p>16086 rows × 19 columns</p>\n",
       "</div>"
      ],
      "text/plain": [
       "       index  ID Number Title Preferred Language  Gender  Relationship Types  \\\n",
       "0          0     100001   NaN                  E       0                   0   \n",
       "1          1     100002   NaN                  E       0                   0   \n",
       "2          2     100003   NaN                  E       1                   0   \n",
       "3          3     100004   NaN                          0                   0   \n",
       "4          4     100005   NaN                  E       0                   0   \n",
       "...      ...        ...   ...                ...     ...                 ...   \n",
       "16081  49983     149984   NaN                  E       0                   0   \n",
       "16082  49984     149985   NaN                          1                   0   \n",
       "16083  49994     149995   NaN                  E       0                   0   \n",
       "16084  49995     149996   NaN                  E       0                   0   \n",
       "16085  49996     149997   NaN                  E       1                   0   \n",
       "\n",
       "       Faculty of Graduation  Year of Graduation  Province  Lifetime Giving  \\\n",
       "0                          0                1968         0            73600   \n",
       "1                          1                1958         1             8035   \n",
       "2                          2                1963         0             9675   \n",
       "3                          3                1960         2             4070   \n",
       "4                          4                1955         3            13377   \n",
       "...                      ...                 ...       ...              ...   \n",
       "16081                     15                2008         3            49825   \n",
       "16082                      5                1993         0            12925   \n",
       "16083                      1                1948         9             4572   \n",
       "16084                      5                1960         0             9174   \n",
       "16085                      1                1992         7            38181   \n",
       "\n",
       "       Year of Last Gift  Year of First Gift  Largest Gift  \\\n",
       "0                 1997.0              1978.0       22080.0   \n",
       "1                 1962.0              1961.0        1768.0   \n",
       "2                 1961.0              1961.0        3483.0   \n",
       "3                 1990.0              1986.0        2768.0   \n",
       "4                 1970.0              1957.0        3077.0   \n",
       "...                  ...                 ...           ...   \n",
       "16081             2006.0              2006.0       38864.0   \n",
       "16082             2009.0              2008.0        5299.0   \n",
       "16083             1968.0              1959.0         640.0   \n",
       "16084             1970.0              1969.0        5504.0   \n",
       "16085             1999.0              1993.0       35890.0   \n",
       "\n",
       "       Events Attended in Lifetime  Past Traveler Y/N  \\\n",
       "0                                0                  0   \n",
       "1                               14                  0   \n",
       "2                               15                  0   \n",
       "3                               14                  0   \n",
       "4                                0                  0   \n",
       "...                            ...                ...   \n",
       "16081                            6                  1   \n",
       "16082                            6                  0   \n",
       "16083                           11                  0   \n",
       "16084                           15                  1   \n",
       "16085                            8                  0   \n",
       "\n",
       "       # of Instances of Volunteering  # of Clicks in the Past Month  \\\n",
       "0                                   0                             27   \n",
       "1                                   1                             19   \n",
       "2                                   1                             18   \n",
       "3                                   2                             10   \n",
       "4                                   0                             16   \n",
       "...                               ...                            ...   \n",
       "16081                               2                             16   \n",
       "16082                               0                             17   \n",
       "16083                               0                              6   \n",
       "16084                               1                              1   \n",
       "16085                               1                             20   \n",
       "\n",
       "       Donor Class  Donor Class 2  \n",
       "0              5.0            1.0  \n",
       "1              4.0            1.0  \n",
       "2              4.0            1.0  \n",
       "3              3.0            0.0  \n",
       "4              4.0            1.0  \n",
       "...            ...            ...  \n",
       "16081          5.0            1.0  \n",
       "16082          4.0            1.0  \n",
       "16083          3.0            0.0  \n",
       "16084          4.0            1.0  \n",
       "16085          5.0            1.0  \n",
       "\n",
       "[16086 rows x 19 columns]"
      ]
     },
     "execution_count": 37,
     "metadata": {},
     "output_type": "execute_result"
    }
   ],
   "source": [
    "df_1"
   ]
  },
  {
   "cell_type": "markdown",
   "metadata": {},
   "source": [
    "Donor Class 2 - Based on 2 clusters"
   ]
  },
  {
   "cell_type": "code",
   "execution_count": 38,
   "metadata": {},
   "outputs": [
    {
     "name": "stderr",
     "output_type": "stream",
     "text": [
      "/var/folders/75/4l4td8zn2693tyx7ytdyh9v80000gn/T/ipykernel_25548/4180756749.py:1: SettingWithCopyWarning: \n",
      "A value is trying to be set on a copy of a slice from a DataFrame.\n",
      "Try using .loc[row_indexer,col_indexer] = value instead\n",
      "\n",
      "See the caveats in the documentation: https://pandas.pydata.org/pandas-docs/stable/user_guide/indexing.html#returning-a-view-versus-a-copy\n",
      "  df_1['Donor Class 2'] = np.nan\n"
     ]
    }
   ],
   "source": [
    "df_1['Donor Class 2'] = np.nan"
   ]
  },
  {
   "cell_type": "code",
   "execution_count": 39,
   "metadata": {},
   "outputs": [],
   "source": [
    "for i in range(0,len(df_1)):\n",
    "    if (df_1.loc[i][9] < 5000):\n",
    "        df_1.at[i,'Donor Class 2'] = 0\n",
    "    else:\n",
    "        df_1.at[i,'Donor Class 2'] = 1"
   ]
  },
  {
   "cell_type": "code",
   "execution_count": 40,
   "metadata": {},
   "outputs": [
    {
     "data": {
      "text/html": [
       "<div>\n",
       "<style scoped>\n",
       "    .dataframe tbody tr th:only-of-type {\n",
       "        vertical-align: middle;\n",
       "    }\n",
       "\n",
       "    .dataframe tbody tr th {\n",
       "        vertical-align: top;\n",
       "    }\n",
       "\n",
       "    .dataframe thead th {\n",
       "        text-align: right;\n",
       "    }\n",
       "</style>\n",
       "<table border=\"1\" class=\"dataframe\">\n",
       "  <thead>\n",
       "    <tr style=\"text-align: right;\">\n",
       "      <th></th>\n",
       "      <th>index</th>\n",
       "      <th>ID Number</th>\n",
       "      <th>Title</th>\n",
       "      <th>Preferred Language</th>\n",
       "      <th>Gender</th>\n",
       "      <th>Relationship Types</th>\n",
       "      <th>Faculty of Graduation</th>\n",
       "      <th>Year of Graduation</th>\n",
       "      <th>Province</th>\n",
       "      <th>Lifetime Giving</th>\n",
       "      <th>Year of Last Gift</th>\n",
       "      <th>Year of First Gift</th>\n",
       "      <th>Largest Gift</th>\n",
       "      <th>Events Attended in Lifetime</th>\n",
       "      <th>Past Traveler Y/N</th>\n",
       "      <th># of Instances of Volunteering</th>\n",
       "      <th># of Clicks in the Past Month</th>\n",
       "      <th>Donor Class</th>\n",
       "      <th>Donor Class 2</th>\n",
       "    </tr>\n",
       "  </thead>\n",
       "  <tbody>\n",
       "    <tr>\n",
       "      <th>0</th>\n",
       "      <td>0</td>\n",
       "      <td>100001</td>\n",
       "      <td>NaN</td>\n",
       "      <td>E</td>\n",
       "      <td>0</td>\n",
       "      <td>0</td>\n",
       "      <td>0</td>\n",
       "      <td>1968</td>\n",
       "      <td>0</td>\n",
       "      <td>73600</td>\n",
       "      <td>1997.0</td>\n",
       "      <td>1978.0</td>\n",
       "      <td>22080.0</td>\n",
       "      <td>0</td>\n",
       "      <td>0</td>\n",
       "      <td>0</td>\n",
       "      <td>27</td>\n",
       "      <td>5.0</td>\n",
       "      <td>1.0</td>\n",
       "    </tr>\n",
       "    <tr>\n",
       "      <th>1</th>\n",
       "      <td>1</td>\n",
       "      <td>100002</td>\n",
       "      <td>NaN</td>\n",
       "      <td>E</td>\n",
       "      <td>0</td>\n",
       "      <td>0</td>\n",
       "      <td>1</td>\n",
       "      <td>1958</td>\n",
       "      <td>1</td>\n",
       "      <td>8035</td>\n",
       "      <td>1962.0</td>\n",
       "      <td>1961.0</td>\n",
       "      <td>1768.0</td>\n",
       "      <td>14</td>\n",
       "      <td>0</td>\n",
       "      <td>1</td>\n",
       "      <td>19</td>\n",
       "      <td>4.0</td>\n",
       "      <td>1.0</td>\n",
       "    </tr>\n",
       "    <tr>\n",
       "      <th>2</th>\n",
       "      <td>2</td>\n",
       "      <td>100003</td>\n",
       "      <td>NaN</td>\n",
       "      <td>E</td>\n",
       "      <td>1</td>\n",
       "      <td>0</td>\n",
       "      <td>2</td>\n",
       "      <td>1963</td>\n",
       "      <td>0</td>\n",
       "      <td>9675</td>\n",
       "      <td>1961.0</td>\n",
       "      <td>1961.0</td>\n",
       "      <td>3483.0</td>\n",
       "      <td>15</td>\n",
       "      <td>0</td>\n",
       "      <td>1</td>\n",
       "      <td>18</td>\n",
       "      <td>4.0</td>\n",
       "      <td>1.0</td>\n",
       "    </tr>\n",
       "    <tr>\n",
       "      <th>4</th>\n",
       "      <td>4</td>\n",
       "      <td>100005</td>\n",
       "      <td>NaN</td>\n",
       "      <td>E</td>\n",
       "      <td>0</td>\n",
       "      <td>0</td>\n",
       "      <td>4</td>\n",
       "      <td>1955</td>\n",
       "      <td>3</td>\n",
       "      <td>13377</td>\n",
       "      <td>1970.0</td>\n",
       "      <td>1957.0</td>\n",
       "      <td>3077.0</td>\n",
       "      <td>0</td>\n",
       "      <td>0</td>\n",
       "      <td>0</td>\n",
       "      <td>16</td>\n",
       "      <td>4.0</td>\n",
       "      <td>1.0</td>\n",
       "    </tr>\n",
       "    <tr>\n",
       "      <th>8</th>\n",
       "      <td>8</td>\n",
       "      <td>100009</td>\n",
       "      <td>NaN</td>\n",
       "      <td>E</td>\n",
       "      <td>0</td>\n",
       "      <td>0</td>\n",
       "      <td>8</td>\n",
       "      <td>1959</td>\n",
       "      <td>0</td>\n",
       "      <td>125043</td>\n",
       "      <td>1958.0</td>\n",
       "      <td>1958.0</td>\n",
       "      <td>71275.0</td>\n",
       "      <td>7</td>\n",
       "      <td>0</td>\n",
       "      <td>1</td>\n",
       "      <td>28</td>\n",
       "      <td>5.0</td>\n",
       "      <td>1.0</td>\n",
       "    </tr>\n",
       "    <tr>\n",
       "      <th>...</th>\n",
       "      <td>...</td>\n",
       "      <td>...</td>\n",
       "      <td>...</td>\n",
       "      <td>...</td>\n",
       "      <td>...</td>\n",
       "      <td>...</td>\n",
       "      <td>...</td>\n",
       "      <td>...</td>\n",
       "      <td>...</td>\n",
       "      <td>...</td>\n",
       "      <td>...</td>\n",
       "      <td>...</td>\n",
       "      <td>...</td>\n",
       "      <td>...</td>\n",
       "      <td>...</td>\n",
       "      <td>...</td>\n",
       "      <td>...</td>\n",
       "      <td>...</td>\n",
       "      <td>...</td>\n",
       "    </tr>\n",
       "    <tr>\n",
       "      <th>16079</th>\n",
       "      <td>49974</td>\n",
       "      <td>149975</td>\n",
       "      <td>NaN</td>\n",
       "      <td>E</td>\n",
       "      <td>1</td>\n",
       "      <td>0</td>\n",
       "      <td>2</td>\n",
       "      <td>1985</td>\n",
       "      <td>2</td>\n",
       "      <td>31594</td>\n",
       "      <td>1996.0</td>\n",
       "      <td>1987.0</td>\n",
       "      <td>13269.0</td>\n",
       "      <td>3</td>\n",
       "      <td>0</td>\n",
       "      <td>1</td>\n",
       "      <td>16</td>\n",
       "      <td>5.0</td>\n",
       "      <td>1.0</td>\n",
       "    </tr>\n",
       "    <tr>\n",
       "      <th>16081</th>\n",
       "      <td>49983</td>\n",
       "      <td>149984</td>\n",
       "      <td>NaN</td>\n",
       "      <td>E</td>\n",
       "      <td>0</td>\n",
       "      <td>0</td>\n",
       "      <td>15</td>\n",
       "      <td>2008</td>\n",
       "      <td>3</td>\n",
       "      <td>49825</td>\n",
       "      <td>2006.0</td>\n",
       "      <td>2006.0</td>\n",
       "      <td>38864.0</td>\n",
       "      <td>6</td>\n",
       "      <td>1</td>\n",
       "      <td>2</td>\n",
       "      <td>16</td>\n",
       "      <td>5.0</td>\n",
       "      <td>1.0</td>\n",
       "    </tr>\n",
       "    <tr>\n",
       "      <th>16082</th>\n",
       "      <td>49984</td>\n",
       "      <td>149985</td>\n",
       "      <td>NaN</td>\n",
       "      <td></td>\n",
       "      <td>1</td>\n",
       "      <td>0</td>\n",
       "      <td>5</td>\n",
       "      <td>1993</td>\n",
       "      <td>0</td>\n",
       "      <td>12925</td>\n",
       "      <td>2009.0</td>\n",
       "      <td>2008.0</td>\n",
       "      <td>5299.0</td>\n",
       "      <td>6</td>\n",
       "      <td>0</td>\n",
       "      <td>0</td>\n",
       "      <td>17</td>\n",
       "      <td>4.0</td>\n",
       "      <td>1.0</td>\n",
       "    </tr>\n",
       "    <tr>\n",
       "      <th>16084</th>\n",
       "      <td>49995</td>\n",
       "      <td>149996</td>\n",
       "      <td>NaN</td>\n",
       "      <td>E</td>\n",
       "      <td>0</td>\n",
       "      <td>0</td>\n",
       "      <td>5</td>\n",
       "      <td>1960</td>\n",
       "      <td>0</td>\n",
       "      <td>9174</td>\n",
       "      <td>1970.0</td>\n",
       "      <td>1969.0</td>\n",
       "      <td>5504.0</td>\n",
       "      <td>15</td>\n",
       "      <td>1</td>\n",
       "      <td>1</td>\n",
       "      <td>1</td>\n",
       "      <td>4.0</td>\n",
       "      <td>1.0</td>\n",
       "    </tr>\n",
       "    <tr>\n",
       "      <th>16085</th>\n",
       "      <td>49996</td>\n",
       "      <td>149997</td>\n",
       "      <td>NaN</td>\n",
       "      <td>E</td>\n",
       "      <td>1</td>\n",
       "      <td>0</td>\n",
       "      <td>1</td>\n",
       "      <td>1992</td>\n",
       "      <td>7</td>\n",
       "      <td>38181</td>\n",
       "      <td>1999.0</td>\n",
       "      <td>1993.0</td>\n",
       "      <td>35890.0</td>\n",
       "      <td>8</td>\n",
       "      <td>0</td>\n",
       "      <td>1</td>\n",
       "      <td>20</td>\n",
       "      <td>5.0</td>\n",
       "      <td>1.0</td>\n",
       "    </tr>\n",
       "  </tbody>\n",
       "</table>\n",
       "<p>6202 rows × 19 columns</p>\n",
       "</div>"
      ],
      "text/plain": [
       "       index  ID Number Title Preferred Language  Gender  Relationship Types  \\\n",
       "0          0     100001   NaN                  E       0                   0   \n",
       "1          1     100002   NaN                  E       0                   0   \n",
       "2          2     100003   NaN                  E       1                   0   \n",
       "4          4     100005   NaN                  E       0                   0   \n",
       "8          8     100009   NaN                  E       0                   0   \n",
       "...      ...        ...   ...                ...     ...                 ...   \n",
       "16079  49974     149975   NaN                  E       1                   0   \n",
       "16081  49983     149984   NaN                  E       0                   0   \n",
       "16082  49984     149985   NaN                          1                   0   \n",
       "16084  49995     149996   NaN                  E       0                   0   \n",
       "16085  49996     149997   NaN                  E       1                   0   \n",
       "\n",
       "       Faculty of Graduation  Year of Graduation  Province  Lifetime Giving  \\\n",
       "0                          0                1968         0            73600   \n",
       "1                          1                1958         1             8035   \n",
       "2                          2                1963         0             9675   \n",
       "4                          4                1955         3            13377   \n",
       "8                          8                1959         0           125043   \n",
       "...                      ...                 ...       ...              ...   \n",
       "16079                      2                1985         2            31594   \n",
       "16081                     15                2008         3            49825   \n",
       "16082                      5                1993         0            12925   \n",
       "16084                      5                1960         0             9174   \n",
       "16085                      1                1992         7            38181   \n",
       "\n",
       "       Year of Last Gift  Year of First Gift  Largest Gift  \\\n",
       "0                 1997.0              1978.0       22080.0   \n",
       "1                 1962.0              1961.0        1768.0   \n",
       "2                 1961.0              1961.0        3483.0   \n",
       "4                 1970.0              1957.0        3077.0   \n",
       "8                 1958.0              1958.0       71275.0   \n",
       "...                  ...                 ...           ...   \n",
       "16079             1996.0              1987.0       13269.0   \n",
       "16081             2006.0              2006.0       38864.0   \n",
       "16082             2009.0              2008.0        5299.0   \n",
       "16084             1970.0              1969.0        5504.0   \n",
       "16085             1999.0              1993.0       35890.0   \n",
       "\n",
       "       Events Attended in Lifetime  Past Traveler Y/N  \\\n",
       "0                                0                  0   \n",
       "1                               14                  0   \n",
       "2                               15                  0   \n",
       "4                                0                  0   \n",
       "8                                7                  0   \n",
       "...                            ...                ...   \n",
       "16079                            3                  0   \n",
       "16081                            6                  1   \n",
       "16082                            6                  0   \n",
       "16084                           15                  1   \n",
       "16085                            8                  0   \n",
       "\n",
       "       # of Instances of Volunteering  # of Clicks in the Past Month  \\\n",
       "0                                   0                             27   \n",
       "1                                   1                             19   \n",
       "2                                   1                             18   \n",
       "4                                   0                             16   \n",
       "8                                   1                             28   \n",
       "...                               ...                            ...   \n",
       "16079                               1                             16   \n",
       "16081                               2                             16   \n",
       "16082                               0                             17   \n",
       "16084                               1                              1   \n",
       "16085                               1                             20   \n",
       "\n",
       "       Donor Class  Donor Class 2  \n",
       "0              5.0            1.0  \n",
       "1              4.0            1.0  \n",
       "2              4.0            1.0  \n",
       "4              4.0            1.0  \n",
       "8              5.0            1.0  \n",
       "...            ...            ...  \n",
       "16079          5.0            1.0  \n",
       "16081          5.0            1.0  \n",
       "16082          4.0            1.0  \n",
       "16084          4.0            1.0  \n",
       "16085          5.0            1.0  \n",
       "\n",
       "[6202 rows x 19 columns]"
      ]
     },
     "execution_count": 40,
     "metadata": {},
     "output_type": "execute_result"
    }
   ],
   "source": [
    "df_1[(df_1['Donor Class 2'] == 1)]"
   ]
  },
  {
   "cell_type": "markdown",
   "metadata": {},
   "source": [
    "## Outliers - Liftime Gift & Largest Gift"
   ]
  },
  {
   "cell_type": "code",
   "execution_count": 41,
   "metadata": {},
   "outputs": [
    {
     "name": "stdout",
     "output_type": "stream",
     "text": [
      "49691.003\n"
     ]
    }
   ],
   "source": [
    "quant = data_set['Lifetime Giving'].quantile(0.997)\n",
    "print(quant)"
   ]
  },
  {
   "cell_type": "markdown",
   "metadata": {},
   "source": [
    "Dataset with donation value less than LTG(99.7%)"
   ]
  },
  {
   "cell_type": "code",
   "execution_count": 42,
   "metadata": {},
   "outputs": [],
   "source": [
    "data_set_1= df_1[df_1['Lifetime Giving']<quant]"
   ]
  },
  {
   "cell_type": "code",
   "execution_count": 43,
   "metadata": {},
   "outputs": [
    {
     "data": {
      "text/html": [
       "<div>\n",
       "<style scoped>\n",
       "    .dataframe tbody tr th:only-of-type {\n",
       "        vertical-align: middle;\n",
       "    }\n",
       "\n",
       "    .dataframe tbody tr th {\n",
       "        vertical-align: top;\n",
       "    }\n",
       "\n",
       "    .dataframe thead th {\n",
       "        text-align: right;\n",
       "    }\n",
       "</style>\n",
       "<table border=\"1\" class=\"dataframe\">\n",
       "  <thead>\n",
       "    <tr style=\"text-align: right;\">\n",
       "      <th></th>\n",
       "      <th>index</th>\n",
       "      <th>ID Number</th>\n",
       "      <th>Gender</th>\n",
       "      <th>Relationship Types</th>\n",
       "      <th>Faculty of Graduation</th>\n",
       "      <th>Year of Graduation</th>\n",
       "      <th>Province</th>\n",
       "      <th>Lifetime Giving</th>\n",
       "      <th>Year of Last Gift</th>\n",
       "      <th>Year of First Gift</th>\n",
       "      <th>Largest Gift</th>\n",
       "      <th>Events Attended in Lifetime</th>\n",
       "      <th>Past Traveler Y/N</th>\n",
       "      <th># of Instances of Volunteering</th>\n",
       "      <th># of Clicks in the Past Month</th>\n",
       "      <th>Donor Class</th>\n",
       "      <th>Donor Class 2</th>\n",
       "    </tr>\n",
       "  </thead>\n",
       "  <tbody>\n",
       "    <tr>\n",
       "      <th>count</th>\n",
       "      <td>15936.000000</td>\n",
       "      <td>15936.000000</td>\n",
       "      <td>15936.000000</td>\n",
       "      <td>15936.000000</td>\n",
       "      <td>15936.000000</td>\n",
       "      <td>15936.000000</td>\n",
       "      <td>15936.000000</td>\n",
       "      <td>15936.000000</td>\n",
       "      <td>15936.000000</td>\n",
       "      <td>15936.000000</td>\n",
       "      <td>15936.000000</td>\n",
       "      <td>15936.000000</td>\n",
       "      <td>15936.000000</td>\n",
       "      <td>15936.000000</td>\n",
       "      <td>15936.000000</td>\n",
       "      <td>15936.000000</td>\n",
       "      <td>15936.000000</td>\n",
       "    </tr>\n",
       "    <tr>\n",
       "      <th>mean</th>\n",
       "      <td>21576.343938</td>\n",
       "      <td>121577.343938</td>\n",
       "      <td>0.535894</td>\n",
       "      <td>0.250188</td>\n",
       "      <td>4.131714</td>\n",
       "      <td>1980.769265</td>\n",
       "      <td>2.316014</td>\n",
       "      <td>10228.479982</td>\n",
       "      <td>1991.691014</td>\n",
       "      <td>1985.696787</td>\n",
       "      <td>5017.523783</td>\n",
       "      <td>7.444403</td>\n",
       "      <td>0.092620</td>\n",
       "      <td>1.288341</td>\n",
       "      <td>13.358371</td>\n",
       "      <td>2.916039</td>\n",
       "      <td>0.379769</td>\n",
       "    </tr>\n",
       "    <tr>\n",
       "      <th>std</th>\n",
       "      <td>14534.203381</td>\n",
       "      <td>14534.203381</td>\n",
       "      <td>0.499103</td>\n",
       "      <td>1.086919</td>\n",
       "      <td>4.146157</td>\n",
       "      <td>18.831062</td>\n",
       "      <td>2.234124</td>\n",
       "      <td>14683.646358</td>\n",
       "      <td>17.978055</td>\n",
       "      <td>18.416730</td>\n",
       "      <td>8766.238379</td>\n",
       "      <td>4.591508</td>\n",
       "      <td>0.289909</td>\n",
       "      <td>1.160918</td>\n",
       "      <td>6.456440</td>\n",
       "      <td>1.483634</td>\n",
       "      <td>0.485345</td>\n",
       "    </tr>\n",
       "    <tr>\n",
       "      <th>min</th>\n",
       "      <td>1.000000</td>\n",
       "      <td>100002.000000</td>\n",
       "      <td>0.000000</td>\n",
       "      <td>0.000000</td>\n",
       "      <td>0.000000</td>\n",
       "      <td>1929.000000</td>\n",
       "      <td>0.000000</td>\n",
       "      <td>1.000000</td>\n",
       "      <td>1934.000000</td>\n",
       "      <td>1933.000000</td>\n",
       "      <td>0.000000</td>\n",
       "      <td>0.000000</td>\n",
       "      <td>0.000000</td>\n",
       "      <td>0.000000</td>\n",
       "      <td>0.000000</td>\n",
       "      <td>1.000000</td>\n",
       "      <td>0.000000</td>\n",
       "    </tr>\n",
       "    <tr>\n",
       "      <th>25%</th>\n",
       "      <td>9078.500000</td>\n",
       "      <td>109079.500000</td>\n",
       "      <td>0.000000</td>\n",
       "      <td>0.000000</td>\n",
       "      <td>1.000000</td>\n",
       "      <td>1967.000000</td>\n",
       "      <td>0.000000</td>\n",
       "      <td>131.500000</td>\n",
       "      <td>1979.000000</td>\n",
       "      <td>1973.000000</td>\n",
       "      <td>52.000000</td>\n",
       "      <td>3.000000</td>\n",
       "      <td>0.000000</td>\n",
       "      <td>0.000000</td>\n",
       "      <td>8.000000</td>\n",
       "      <td>2.000000</td>\n",
       "      <td>0.000000</td>\n",
       "    </tr>\n",
       "    <tr>\n",
       "      <th>50%</th>\n",
       "      <td>20079.000000</td>\n",
       "      <td>120080.000000</td>\n",
       "      <td>1.000000</td>\n",
       "      <td>0.000000</td>\n",
       "      <td>3.000000</td>\n",
       "      <td>1982.000000</td>\n",
       "      <td>2.000000</td>\n",
       "      <td>1265.000000</td>\n",
       "      <td>1995.000000</td>\n",
       "      <td>1988.000000</td>\n",
       "      <td>484.000000</td>\n",
       "      <td>7.000000</td>\n",
       "      <td>0.000000</td>\n",
       "      <td>1.000000</td>\n",
       "      <td>15.000000</td>\n",
       "      <td>3.000000</td>\n",
       "      <td>0.000000</td>\n",
       "    </tr>\n",
       "    <tr>\n",
       "      <th>75%</th>\n",
       "      <td>33577.250000</td>\n",
       "      <td>133578.250000</td>\n",
       "      <td>1.000000</td>\n",
       "      <td>0.000000</td>\n",
       "      <td>5.000000</td>\n",
       "      <td>1996.000000</td>\n",
       "      <td>3.000000</td>\n",
       "      <td>17980.000000</td>\n",
       "      <td>2007.000000</td>\n",
       "      <td>2001.000000</td>\n",
       "      <td>5998.750000</td>\n",
       "      <td>11.000000</td>\n",
       "      <td>0.000000</td>\n",
       "      <td>2.000000</td>\n",
       "      <td>18.000000</td>\n",
       "      <td>4.000000</td>\n",
       "      <td>1.000000</td>\n",
       "    </tr>\n",
       "    <tr>\n",
       "      <th>max</th>\n",
       "      <td>49996.000000</td>\n",
       "      <td>149997.000000</td>\n",
       "      <td>2.000000</td>\n",
       "      <td>17.000000</td>\n",
       "      <td>24.000000</td>\n",
       "      <td>2015.000000</td>\n",
       "      <td>11.000000</td>\n",
       "      <td>49691.000000</td>\n",
       "      <td>2015.000000</td>\n",
       "      <td>2015.000000</td>\n",
       "      <td>48357.000000</td>\n",
       "      <td>15.000000</td>\n",
       "      <td>1.000000</td>\n",
       "      <td>3.000000</td>\n",
       "      <td>23.000000</td>\n",
       "      <td>5.000000</td>\n",
       "      <td>1.000000</td>\n",
       "    </tr>\n",
       "  </tbody>\n",
       "</table>\n",
       "</div>"
      ],
      "text/plain": [
       "              index      ID Number        Gender  Relationship Types  \\\n",
       "count  15936.000000   15936.000000  15936.000000        15936.000000   \n",
       "mean   21576.343938  121577.343938      0.535894            0.250188   \n",
       "std    14534.203381   14534.203381      0.499103            1.086919   \n",
       "min        1.000000  100002.000000      0.000000            0.000000   \n",
       "25%     9078.500000  109079.500000      0.000000            0.000000   \n",
       "50%    20079.000000  120080.000000      1.000000            0.000000   \n",
       "75%    33577.250000  133578.250000      1.000000            0.000000   \n",
       "max    49996.000000  149997.000000      2.000000           17.000000   \n",
       "\n",
       "       Faculty of Graduation  Year of Graduation      Province  \\\n",
       "count           15936.000000        15936.000000  15936.000000   \n",
       "mean                4.131714         1980.769265      2.316014   \n",
       "std                 4.146157           18.831062      2.234124   \n",
       "min                 0.000000         1929.000000      0.000000   \n",
       "25%                 1.000000         1967.000000      0.000000   \n",
       "50%                 3.000000         1982.000000      2.000000   \n",
       "75%                 5.000000         1996.000000      3.000000   \n",
       "max                24.000000         2015.000000     11.000000   \n",
       "\n",
       "       Lifetime Giving  Year of Last Gift  Year of First Gift  Largest Gift  \\\n",
       "count     15936.000000       15936.000000        15936.000000  15936.000000   \n",
       "mean      10228.479982        1991.691014         1985.696787   5017.523783   \n",
       "std       14683.646358          17.978055           18.416730   8766.238379   \n",
       "min           1.000000        1934.000000         1933.000000      0.000000   \n",
       "25%         131.500000        1979.000000         1973.000000     52.000000   \n",
       "50%        1265.000000        1995.000000         1988.000000    484.000000   \n",
       "75%       17980.000000        2007.000000         2001.000000   5998.750000   \n",
       "max       49691.000000        2015.000000         2015.000000  48357.000000   \n",
       "\n",
       "       Events Attended in Lifetime  Past Traveler Y/N  \\\n",
       "count                 15936.000000       15936.000000   \n",
       "mean                      7.444403           0.092620   \n",
       "std                       4.591508           0.289909   \n",
       "min                       0.000000           0.000000   \n",
       "25%                       3.000000           0.000000   \n",
       "50%                       7.000000           0.000000   \n",
       "75%                      11.000000           0.000000   \n",
       "max                      15.000000           1.000000   \n",
       "\n",
       "       # of Instances of Volunteering  # of Clicks in the Past Month  \\\n",
       "count                    15936.000000                   15936.000000   \n",
       "mean                         1.288341                      13.358371   \n",
       "std                          1.160918                       6.456440   \n",
       "min                          0.000000                       0.000000   \n",
       "25%                          0.000000                       8.000000   \n",
       "50%                          1.000000                      15.000000   \n",
       "75%                          2.000000                      18.000000   \n",
       "max                          3.000000                      23.000000   \n",
       "\n",
       "        Donor Class  Donor Class 2  \n",
       "count  15936.000000   15936.000000  \n",
       "mean       2.916039       0.379769  \n",
       "std        1.483634       0.485345  \n",
       "min        1.000000       0.000000  \n",
       "25%        2.000000       0.000000  \n",
       "50%        3.000000       0.000000  \n",
       "75%        4.000000       1.000000  \n",
       "max        5.000000       1.000000  "
      ]
     },
     "execution_count": 43,
     "metadata": {},
     "output_type": "execute_result"
    }
   ],
   "source": [
    "data_set_1.describe()"
   ]
  },
  {
   "cell_type": "code",
   "execution_count": 44,
   "metadata": {},
   "outputs": [
    {
     "data": {
      "text/plain": [
       "0    37\n",
       "3    32\n",
       "2    21\n",
       "6    11\n",
       "1     9\n",
       "5     6\n",
       "4     3\n",
       "7     1\n",
       "Name: Province, dtype: int64"
      ]
     },
     "execution_count": 44,
     "metadata": {},
     "output_type": "execute_result"
    }
   ],
   "source": [
    "df_1[df_1['Lifetime Giving']>50000]['Province'].value_counts()"
   ]
  },
  {
   "cell_type": "code",
   "execution_count": 45,
   "metadata": {},
   "outputs": [
    {
     "data": {
      "text/plain": [
       "<AxesSubplot:xlabel='Lifetime Giving', ylabel='Largest Gift'>"
      ]
     },
     "execution_count": 45,
     "metadata": {},
     "output_type": "execute_result"
    },
    {
     "data": {
      "image/png": "[encoded data removed]",
      "text/plain": [
       "<Figure size 1440x720 with 1 Axes>"
      ]
     },
     "metadata": {
      "needs_background": "light"
     },
     "output_type": "display_data"
    }
   ],
   "source": [
    "plt.figure(figsize = (20, 10))\n",
    "sns.scatterplot(x=data_set_1['Lifetime Giving'], y=data_set_1['Largest Gift'] ,s=2)"
   ]
  },
  {
   "cell_type": "markdown",
   "metadata": {},
   "source": [
    "# EDA"
   ]
  },
  {
   "cell_type": "markdown",
   "metadata": {},
   "source": [
    "- Province - Ontario, Alberta, NB,QC, BC strong givings\n",
    "- Clicks - Most donation by clicks between 10-15\n",
    "- Faculty of Graduation - strong givings - 'Arts -- General'(1), 'Science -- General'(2),'Management'(4),'Engineer -- General(5)\n",
    "\n",
    "- No Relation - Year of Graduation, Events attended, Volunteering, Yr Fist, Yr Last,Relationship (very unclear relations) "
   ]
  },
  {
   "cell_type": "markdown",
   "metadata": {},
   "source": [
    "## Target vs Feature"
   ]
  },
  {
   "cell_type": "code",
   "execution_count": 46,
   "metadata": {},
   "outputs": [
    {
     "data": {
      "text/plain": [
       "<matplotlib.collections.PathCollection at 0x7fd182f5c670>"
      ]
     },
     "execution_count": 46,
     "metadata": {},
     "output_type": "execute_result"
    },
    {
     "data": {
      "image/png": "[encoded data removed]",
      "text/plain": [
       "<Figure size 1440x720 with 2 Axes>"
      ]
     },
     "metadata": {
      "needs_background": "light"
     },
     "output_type": "display_data"
    }
   ],
   "source": [
    "plt.figure(figsize = (20, 10))\n",
    "plt.subplot(2,1,1)\n",
    "plt.scatter(x=data_set_1['Gender'], y=data_set_1['Largest Gift'] ,s=2)\n",
    "\n",
    "plt.subplot(2,1,2)\n",
    "plt.scatter(x=data_set_1['Gender'], y=data_set_1['Lifetime Giving'] ,s=2)"
   ]
  },
  {
   "cell_type": "code",
   "execution_count": 47,
   "metadata": {},
   "outputs": [
    {
     "ename": "NameError",
     "evalue": "name 'data_1' is not defined",
     "output_type": "error",
     "traceback": [
      "\u001b[0;31m---------------------------------------------------------------------------\u001b[0m",
      "\u001b[0;31mNameError\u001b[0m                                 Traceback (most recent call last)",
      "\u001b[0;32m/var/folders/75/4l4td8zn2693tyx7ytdyh9v80000gn/T/ipykernel_25548/747633256.py\u001b[0m in \u001b[0;36m<module>\u001b[0;34m\u001b[0m\n\u001b[0;32m----> 1\u001b[0;31m \u001b[0mdata_1\u001b[0m\u001b[0;34m[\u001b[0m\u001b[0;34m'Gender'\u001b[0m\u001b[0;34m]\u001b[0m\u001b[0;34m.\u001b[0m\u001b[0mvalue_counts\u001b[0m\u001b[0;34m(\u001b[0m\u001b[0;34m)\u001b[0m\u001b[0;34m\u001b[0m\u001b[0;34m\u001b[0m\u001b[0m\n\u001b[0m",
      "\u001b[0;31mNameError\u001b[0m: name 'data_1' is not defined"
     ]
    }
   ],
   "source": [
    "data_1['Gender'].value_counts()"
   ]
  },
  {
   "cell_type": "code",
   "execution_count": 48,
   "metadata": {},
   "outputs": [
    {
     "data": {
      "text/plain": [
       "<matplotlib.collections.PathCollection at 0x7fd17a138820>"
      ]
     },
     "execution_count": 48,
     "metadata": {},
     "output_type": "execute_result"
    },
    {
     "data": {
      "image/png": "[encoded data removed]",
      "text/plain": [
       "<Figure size 1440x720 with 2 Axes>"
      ]
     },
     "metadata": {
      "needs_background": "light"
     },
     "output_type": "display_data"
    }
   ],
   "source": [
    "plt.figure(figsize = (20, 10))\n",
    "plt.subplot(2,1,1)\n",
    "plt.scatter(x=data_set_1['Relationship Types'], y=data_set_1['Largest Gift'] ,s=2)\n",
    "\n",
    "plt.subplot(2,1,2)\n",
    "plt.scatter(x=data_set_1['Relationship Types'], y=data_set_1['Lifetime Giving'] ,s=2)"
   ]
  },
  {
   "cell_type": "code",
   "execution_count": 49,
   "metadata": {},
   "outputs": [
    {
     "data": {
      "text/plain": [
       "<matplotlib.collections.PathCollection at 0x7fd18343ca60>"
      ]
     },
     "execution_count": 49,
     "metadata": {},
     "output_type": "execute_result"
    },
    {
     "data": {
      "image/png": "[encoded data removed]",
      "text/plain": [
       "<Figure size 432x288 with 2 Axes>"
      ]
     },
     "metadata": {
      "needs_background": "light"
     },
     "output_type": "display_data"
    }
   ],
   "source": [
    "#plt.figure(figsize = (20, 10))\n",
    "plt.subplot(2,1,1)\n",
    "plt.scatter(x=data_set_1['Faculty of Graduation'], y=data_set_1['Largest Gift'] ,s=2)\n",
    "\n",
    "plt.subplot(2,1,2)\n",
    "plt.scatter(x=data_set_1['Faculty of Graduation'], y=data_set_1['Lifetime Giving'] ,s=2)"
   ]
  },
  {
   "cell_type": "code",
   "execution_count": 50,
   "metadata": {},
   "outputs": [],
   "source": [
    "#data_set_1['Faculty of Graduation'].value_counts()"
   ]
  },
  {
   "cell_type": "markdown",
   "metadata": {},
   "source": [
    "'Arts -- General', 1\n",
    "'Science -- General', 2\n",
    "'Management', 4\n",
    "'Engineer -- General - 5"
   ]
  },
  {
   "cell_type": "code",
   "execution_count": 51,
   "metadata": {},
   "outputs": [
    {
     "data": {
      "text/plain": [
       "(array([9.390e+02, 4.644e+03, 2.180e+03, 6.940e+02, 2.560e+03, 1.526e+03,\n",
       "        2.220e+02, 2.150e+02, 9.160e+02, 2.920e+02, 2.670e+02, 1.310e+02,\n",
       "        3.000e+02, 1.790e+02, 2.200e+02, 2.140e+02, 3.000e+01, 2.810e+02,\n",
       "        3.800e+01, 2.100e+01, 1.000e+01, 3.500e+01, 1.600e+01, 5.000e+00,\n",
       "        1.000e+00]),\n",
       " array([ 0.  ,  0.96,  1.92,  2.88,  3.84,  4.8 ,  5.76,  6.72,  7.68,\n",
       "         8.64,  9.6 , 10.56, 11.52, 12.48, 13.44, 14.4 , 15.36, 16.32,\n",
       "        17.28, 18.24, 19.2 , 20.16, 21.12, 22.08, 23.04, 24.  ]),\n",
       " <BarContainer object of 25 artists>)"
      ]
     },
     "execution_count": 51,
     "metadata": {},
     "output_type": "execute_result"
    },
    {
     "data": {
      "image/png": "[encoded data removed]",
      "text/plain": [
       "<Figure size 1440x720 with 1 Axes>"
      ]
     },
     "metadata": {
      "needs_background": "light"
     },
     "output_type": "display_data"
    }
   ],
   "source": [
    "plt.figure(figsize = (20, 10))\n",
    "plt.hist(data_set_1['Faculty of Graduation'], bins=25)"
   ]
  },
  {
   "cell_type": "code",
   "execution_count": 52,
   "metadata": {},
   "outputs": [
    {
     "data": {
      "text/plain": [
       "(array([5360., 1083., 2139., 4085.,  477.,  530., 1515.,  463.,  192.,\n",
       "          64.,   17.,   11.]),\n",
       " array([ 0.        ,  0.91666667,  1.83333333,  2.75      ,  3.66666667,\n",
       "         4.58333333,  5.5       ,  6.41666667,  7.33333333,  8.25      ,\n",
       "         9.16666667, 10.08333333, 11.        ]),\n",
       " <BarContainer object of 12 artists>)"
      ]
     },
     "execution_count": 52,
     "metadata": {},
     "output_type": "execute_result"
    },
    {
     "data": {
      "image/png": "[encoded data removed]",
      "text/plain": [
       "<Figure size 1440x720 with 1 Axes>"
      ]
     },
     "metadata": {
      "needs_background": "light"
     },
     "output_type": "display_data"
    }
   ],
   "source": [
    "plt.figure(figsize = (20, 10))\n",
    "plt.hist(data_set_1['Province'], bins=12)"
   ]
  },
  {
   "cell_type": "code",
   "execution_count": 53,
   "metadata": {},
   "outputs": [
    {
     "data": {
      "text/plain": [
       "<matplotlib.collections.PathCollection at 0x7fd184cd1220>"
      ]
     },
     "execution_count": 53,
     "metadata": {},
     "output_type": "execute_result"
    },
    {
     "data": {
      "image/png": "[encoded data removed]",
      "text/plain": [
       "<Figure size 1440x720 with 2 Axes>"
      ]
     },
     "metadata": {
      "needs_background": "light"
     },
     "output_type": "display_data"
    }
   ],
   "source": [
    "plt.figure(figsize = (20, 10))\n",
    "plt.subplot(2,1,1)\n",
    "plt.scatter(x=data_set_1['Province'], y=data_set_1['Largest Gift'] ,s=2)\n",
    "\n",
    "plt.subplot(2,1,2)\n",
    "plt.scatter(x=data_set_1['Province'], y=data_set_1['Lifetime Giving'] ,s=2)"
   ]
  },
  {
   "cell_type": "code",
   "execution_count": 54,
   "metadata": {},
   "outputs": [
    {
     "data": {
      "text/plain": [
       "<matplotlib.collections.PathCollection at 0x7fd17a0a4dc0>"
      ]
     },
     "execution_count": 54,
     "metadata": {},
     "output_type": "execute_result"
    },
    {
     "data": {
      "image/png": "[encoded data removed]",
      "text/plain": [
       "<Figure size 1440x720 with 2 Axes>"
      ]
     },
     "metadata": {
      "needs_background": "light"
     },
     "output_type": "display_data"
    }
   ],
   "source": [
    "plt.figure(figsize = (20, 10))\n",
    "plt.subplot(2,1,1)\n",
    "plt.scatter(x=data_set_1['Year of Graduation'], y=data_set_1['Largest Gift'] ,s=2)\n",
    "\n",
    "plt.subplot(2,1,2)\n",
    "plt.scatter(x=data_set_1['Year of Graduation'], y=data_set_1['Lifetime Giving'] ,s=2)"
   ]
  },
  {
   "cell_type": "code",
   "execution_count": 55,
   "metadata": {},
   "outputs": [
    {
     "data": {
      "text/plain": [
       "<matplotlib.collections.PathCollection at 0x7fd170c96160>"
      ]
     },
     "execution_count": 55,
     "metadata": {},
     "output_type": "execute_result"
    },
    {
     "data": {
      "image/png": "[encoded data removed]",
      "text/plain": [
       "<Figure size 1440x720 with 2 Axes>"
      ]
     },
     "metadata": {
      "needs_background": "light"
     },
     "output_type": "display_data"
    }
   ],
   "source": [
    "plt.figure(figsize = (20, 10))\n",
    "plt.subplot(2,1,1)\n",
    "plt.scatter(x=data_set_1['# of Clicks in the Past Month'], y=data_set_1['Largest Gift'] ,s=2)\n",
    "\n",
    "plt.subplot(2,1,2)\n",
    "plt.scatter(x=data_set_1['# of Clicks in the Past Month'], y=data_set_1['Lifetime Giving'] ,s=2)"
   ]
  },
  {
   "cell_type": "markdown",
   "metadata": {},
   "source": [
    "Most click range - 15 to 20"
   ]
  },
  {
   "cell_type": "code",
   "execution_count": 56,
   "metadata": {},
   "outputs": [
    {
     "data": {
      "text/plain": [
       "(array([3483.,    0., 4115.,    0.,    0., 2294.,    0., 2345.,    0.,\n",
       "        3699.]),\n",
       " array([1. , 1.4, 1.8, 2.2, 2.6, 3. , 3.4, 3.8, 4.2, 4.6, 5. ]),\n",
       " <BarContainer object of 10 artists>)"
      ]
     },
     "execution_count": 56,
     "metadata": {},
     "output_type": "execute_result"
    },
    {
     "data": {
      "image/png": "[encoded data removed]",
      "text/plain": [
       "<Figure size 1440x720 with 1 Axes>"
      ]
     },
     "metadata": {
      "needs_background": "light"
     },
     "output_type": "display_data"
    }
   ],
   "source": [
    "plt.figure(figsize = (20, 10))\n",
    "\n",
    "plt.hist(data_set_1['Donor Class'])\n"
   ]
  },
  {
   "cell_type": "markdown",
   "metadata": {},
   "source": [
    "## Feature vs Feature"
   ]
  },
  {
   "cell_type": "markdown",
   "metadata": {},
   "source": [
    "'Arts -- General', 1\n",
    "'Science -- General', 2\n",
    "'Management', 4\n",
    "'Engineer -- General - 5"
   ]
  },
  {
   "cell_type": "code",
   "execution_count": 57,
   "metadata": {},
   "outputs": [
    {
     "ename": "NameError",
     "evalue": "name 'data_1' is not defined",
     "output_type": "error",
     "traceback": [
      "\u001b[0;31m---------------------------------------------------------------------------\u001b[0m",
      "\u001b[0;31mNameError\u001b[0m                                 Traceback (most recent call last)",
      "\u001b[0;32m/var/folders/75/4l4td8zn2693tyx7ytdyh9v80000gn/T/ipykernel_25548/3799271028.py\u001b[0m in \u001b[0;36m<module>\u001b[0;34m\u001b[0m\n\u001b[1;32m      1\u001b[0m \u001b[0mplt\u001b[0m\u001b[0;34m.\u001b[0m\u001b[0mfigure\u001b[0m\u001b[0;34m(\u001b[0m\u001b[0mfigsize\u001b[0m \u001b[0;34m=\u001b[0m \u001b[0;34m(\u001b[0m\u001b[0;36m20\u001b[0m\u001b[0;34m,\u001b[0m \u001b[0;36m20\u001b[0m\u001b[0;34m)\u001b[0m\u001b[0;34m)\u001b[0m\u001b[0;34m\u001b[0m\u001b[0;34m\u001b[0m\u001b[0m\n\u001b[1;32m      2\u001b[0m \u001b[0mplt\u001b[0m\u001b[0;34m.\u001b[0m\u001b[0msubplot\u001b[0m\u001b[0;34m(\u001b[0m\u001b[0;36m3\u001b[0m\u001b[0;34m,\u001b[0m\u001b[0;36m2\u001b[0m\u001b[0;34m,\u001b[0m\u001b[0;36m1\u001b[0m\u001b[0;34m)\u001b[0m\u001b[0;34m\u001b[0m\u001b[0;34m\u001b[0m\u001b[0m\n\u001b[0;32m----> 3\u001b[0;31m \u001b[0mplt\u001b[0m\u001b[0;34m.\u001b[0m\u001b[0mhist\u001b[0m\u001b[0;34m(\u001b[0m\u001b[0mdata_1\u001b[0m\u001b[0;34m[\u001b[0m\u001b[0mdata_1\u001b[0m\u001b[0;34m[\u001b[0m\u001b[0;34m'Faculty of Graduation'\u001b[0m\u001b[0;34m]\u001b[0m\u001b[0;34m==\u001b[0m\u001b[0;36m1\u001b[0m\u001b[0;34m]\u001b[0m\u001b[0;34m[\u001b[0m\u001b[0;34m'Donor Class'\u001b[0m\u001b[0;34m]\u001b[0m\u001b[0;34m)\u001b[0m\u001b[0;34m\u001b[0m\u001b[0;34m\u001b[0m\u001b[0m\n\u001b[0m\u001b[1;32m      4\u001b[0m \u001b[0mplt\u001b[0m\u001b[0;34m.\u001b[0m\u001b[0mtitle\u001b[0m\u001b[0;34m(\u001b[0m\u001b[0;34m'Arts-Gen'\u001b[0m\u001b[0;34m)\u001b[0m\u001b[0;34m\u001b[0m\u001b[0;34m\u001b[0m\u001b[0m\n\u001b[1;32m      5\u001b[0m \u001b[0;34m\u001b[0m\u001b[0m\n",
      "\u001b[0;31mNameError\u001b[0m: name 'data_1' is not defined"
     ]
    },
    {
     "data": {
      "image/png": "[encoded data removed]",
      "text/plain": [
       "<Figure size 1440x1440 with 1 Axes>"
      ]
     },
     "metadata": {
      "needs_background": "light"
     },
     "output_type": "display_data"
    }
   ],
   "source": [
    "plt.figure(figsize = (20, 20))\n",
    "plt.subplot(3,2,1)\n",
    "plt.hist(data_1[data_1['Faculty of Graduation']==1]['Donor Class'])\n",
    "plt.title('Arts-Gen')\n",
    "\n",
    "plt.subplot(3,2,2)\n",
    "plt.hist(data_1[data_1['Faculty of Graduation']==2]['Donor Class'])\n",
    "plt.title('Sci - Gen')\n",
    "\n",
    "plt.subplot(3,2,3)\n",
    "plt.hist(data_1[data_1['Faculty of Graduation']==4]['Donor Class'])\n",
    "plt.title('Managment')\n",
    "\n",
    "plt.subplot(3,2,4)\n",
    "plt.hist(data_1[data_1['Faculty of Graduation']==5]['Donor Class'])\n",
    "plt.title('Engg-Gen')"
   ]
  },
  {
   "cell_type": "markdown",
   "metadata": {},
   "source": [
    "# Decision Tree "
   ]
  },
  {
   "cell_type": "markdown",
   "metadata": {},
   "source": [
    "## Model 1 - Predict Donor Type based on RAW_DATA"
   ]
  },
  {
   "cell_type": "code",
   "execution_count": 58,
   "metadata": {},
   "outputs": [],
   "source": [
    "from sklearn.model_selection import train_test_split\n",
    "data_X = raw_data[['Gender', 'Faculty of Graduation','Province', '# of Clicks in the Past Month']]\n",
    "data_Y = raw_data[\"Donor Type\"]\n",
    "X_train, X_test, y_train, y_test = train_test_split(data_X, data_Y, test_size = 0.3, train_size = 0.7)"
   ]
  },
  {
   "cell_type": "code",
   "execution_count": 59,
   "metadata": {},
   "outputs": [
    {
     "data": {
      "text/plain": [
       "DecisionTreeClassifier()"
      ]
     },
     "execution_count": 59,
     "metadata": {},
     "output_type": "execute_result"
    }
   ],
   "source": [
    "D_Tree = tree.DecisionTreeClassifier()\n",
    "D_Tree.fit(X_train, y_train)"
   ]
  },
  {
   "cell_type": "code",
   "execution_count": 60,
   "metadata": {},
   "outputs": [
    {
     "name": "stdout",
     "output_type": "stream",
     "text": [
      "[0.08888085 0.19635417 0.22838315 0.48638182]\n",
      "Index(['Gender', 'Faculty of Graduation', 'Province',\n",
      "       '# of Clicks in the Past Month'],\n",
      "      dtype='object')\n"
     ]
    }
   ],
   "source": [
    "print(D_Tree.feature_importances_)\n",
    "print(X_train.columns)"
   ]
  },
  {
   "cell_type": "code",
   "execution_count": 61,
   "metadata": {},
   "outputs": [
    {
     "name": "stdout",
     "output_type": "stream",
     "text": [
      "Tree depth:  23\n",
      "Number of leaf nodes:  4288\n"
     ]
    }
   ],
   "source": [
    "print('Tree depth: ', D_Tree.get_depth())\n",
    "print('Number of leaf nodes: ', D_Tree.get_n_leaves())"
   ]
  },
  {
   "cell_type": "code",
   "execution_count": 62,
   "metadata": {},
   "outputs": [
    {
     "name": "stdout",
     "output_type": "stream",
     "text": [
      "training set accuracy:  73.69142857142857 2\n"
     ]
    }
   ],
   "source": [
    "print('training set accuracy: ', D_Tree.score(X_train, y_train) * 100, 2)"
   ]
  },
  {
   "cell_type": "code",
   "execution_count": 63,
   "metadata": {},
   "outputs": [
    {
     "name": "stdout",
     "output_type": "stream",
     "text": [
      "[0. 0. 0. ... 0. 0. 0.]\n",
      "46549    0.0\n",
      "20370    0.0\n",
      "28160    0.0\n",
      "26843    0.0\n",
      "9099     0.0\n",
      "        ... \n",
      "7611     1.0\n",
      "22045    0.0\n",
      "29575    0.0\n",
      "14180    0.0\n",
      "30349    0.0\n",
      "Name: Donor Type, Length: 15000, dtype: float64\n"
     ]
    }
   ],
   "source": [
    "D_Tree_predictions = D_Tree.predict(X_test)\n",
    "print(D_Tree_predictions)\n",
    "print(y_test)\n",
    "\n"
   ]
  },
  {
   "cell_type": "code",
   "execution_count": 64,
   "metadata": {},
   "outputs": [
    {
     "name": "stdout",
     "output_type": "stream",
     "text": [
      "test set accuracy:  66.37333333333333 2\n"
     ]
    }
   ],
   "source": [
    "print('test set accuracy: ', D_Tree.score(X_test, y_test)*100, 2)"
   ]
  },
  {
   "cell_type": "markdown",
   "metadata": {},
   "source": [
    "## Model 2 - Predict Donor Type based on DATA_SET_1 "
   ]
  },
  {
   "cell_type": "code",
   "execution_count": 65,
   "metadata": {},
   "outputs": [],
   "source": [
    "data_X = data_set_1[['Gender','Faculty of Graduation','Province','# of Clicks in the Past Month']]\n",
    "data_Y = data_set_1[\"Donor Class 2\"]\n",
    "X_train, X_test, y_train, y_test = train_test_split(data_X, data_Y, test_size = 0.2, train_size = 0.8)"
   ]
  },
  {
   "cell_type": "code",
   "execution_count": 66,
   "metadata": {},
   "outputs": [
    {
     "data": {
      "text/plain": [
       "DecisionTreeClassifier()"
      ]
     },
     "execution_count": 66,
     "metadata": {},
     "output_type": "execute_result"
    }
   ],
   "source": [
    "D_Tree = tree.DecisionTreeClassifier()\n",
    "D_Tree.fit(X_train, y_train)"
   ]
  },
  {
   "cell_type": "code",
   "execution_count": 67,
   "metadata": {},
   "outputs": [
    {
     "name": "stdout",
     "output_type": "stream",
     "text": [
      "[0.03667643 0.09304774 0.07292007 0.79735576]\n",
      "Index(['Gender', 'Faculty of Graduation', 'Province',\n",
      "       '# of Clicks in the Past Month'],\n",
      "      dtype='object')\n"
     ]
    }
   ],
   "source": [
    "print(D_Tree.feature_importances_)\n",
    "print(X_train.columns)"
   ]
  },
  {
   "cell_type": "code",
   "execution_count": 68,
   "metadata": {},
   "outputs": [
    {
     "name": "stdout",
     "output_type": "stream",
     "text": [
      "Tree depth:  23\n",
      "Number of leaf nodes:  1928\n"
     ]
    }
   ],
   "source": [
    "print('Tree depth: ', D_Tree.get_depth())\n",
    "print('Number of leaf nodes: ', D_Tree.get_n_leaves())"
   ]
  },
  {
   "cell_type": "code",
   "execution_count": 69,
   "metadata": {},
   "outputs": [
    {
     "name": "stdout",
     "output_type": "stream",
     "text": [
      "training set accuracy:  83.98964543457798 2\n"
     ]
    }
   ],
   "source": [
    "print('training set accuracy: ', D_Tree.score(X_train, y_train) * 100, 2)"
   ]
  },
  {
   "cell_type": "code",
   "execution_count": 70,
   "metadata": {},
   "outputs": [
    {
     "name": "stdout",
     "output_type": "stream",
     "text": [
      "[0. 1. 1. ... 1. 1. 0.]\n",
      "4147     0.0\n",
      "11965    1.0\n",
      "14640    1.0\n",
      "518      0.0\n",
      "15777    1.0\n",
      "        ... \n",
      "14354    1.0\n",
      "7125     0.0\n",
      "11098    1.0\n",
      "5126     0.0\n",
      "9519     0.0\n",
      "Name: Donor Class 2, Length: 3188, dtype: float64\n"
     ]
    }
   ],
   "source": [
    "D_Tree_predictions = D_Tree.predict(X_test)\n",
    "print(D_Tree_predictions)\n",
    "print(y_test)"
   ]
  },
  {
   "cell_type": "code",
   "execution_count": 71,
   "metadata": {},
   "outputs": [
    {
     "name": "stdout",
     "output_type": "stream",
     "text": [
      "test set accuracy:  76.16060225846925 2\n"
     ]
    }
   ],
   "source": [
    "print('test set accuracy: ', D_Tree.score(X_test, y_test)*100, 2)"
   ]
  },
  {
   "cell_type": "markdown",
   "metadata": {},
   "source": [
    "## Model 3 - Random Forest - Donor Type based on DATA_SET_1 "
   ]
  },
  {
   "cell_type": "code",
   "execution_count": 72,
   "metadata": {},
   "outputs": [],
   "source": [
    "data_X = data_set_1[['Gender','Faculty of Graduation','Province','# of Clicks in the Past Month']]\n",
    "data_Y = data_set_1[\"Donor Class 2\"]\n",
    "X_train, X_test, y_train, y_test = train_test_split(data_X, data_Y, test_size = 0.2, train_size = 0.8)"
   ]
  },
  {
   "cell_type": "code",
   "execution_count": 73,
   "metadata": {},
   "outputs": [
    {
     "name": "stdout",
     "output_type": "stream",
     "text": [
      "training set accuracy:  83.51113900219642 2\n",
      "test set accuracy:  79.17189460476789 2\n"
     ]
    }
   ],
   "source": [
    "Random_Frst = RandomForestClassifier(criterion = 'gini', n_estimators = 150)\n",
    "Random_Frst.fit(X_train, y_train)\n",
    "print('training set accuracy: ', Random_Frst.score(X_train, y_train) * 100, 2)\n",
    "print('test set accuracy: ',Random_Frst.score(X_test, y_test)*100, 2)"
   ]
  },
  {
   "cell_type": "code",
   "execution_count": 74,
   "metadata": {},
   "outputs": [
    {
     "data": {
      "text/plain": [
       "DecisionTreeClassifier()"
      ]
     },
     "execution_count": 74,
     "metadata": {},
     "output_type": "execute_result"
    }
   ],
   "source": [
    "D_Tree = tree.DecisionTreeClassifier()\n",
    "D_Tree.fit(X_train, y_train)"
   ]
  },
  {
   "cell_type": "code",
   "execution_count": 75,
   "metadata": {},
   "outputs": [
    {
     "name": "stdout",
     "output_type": "stream",
     "text": [
      "[0.03521953 0.09099006 0.08437028 0.78942013]\n",
      "Index(['Gender', 'Faculty of Graduation', 'Province',\n",
      "       '# of Clicks in the Past Month'],\n",
      "      dtype='object')\n"
     ]
    }
   ],
   "source": [
    "print(D_Tree.feature_importances_)\n",
    "print(X_train.columns)"
   ]
  },
  {
   "cell_type": "code",
   "execution_count": 76,
   "metadata": {},
   "outputs": [
    {
     "name": "stdout",
     "output_type": "stream",
     "text": [
      "Tree depth:  23\n",
      "Number of leaf nodes:  1956\n"
     ]
    }
   ],
   "source": [
    "print('Tree depth: ', D_Tree.get_depth())\n",
    "print('Number of leaf nodes: ', D_Tree.get_n_leaves())"
   ]
  },
  {
   "cell_type": "code",
   "execution_count": 77,
   "metadata": {},
   "outputs": [
    {
     "name": "stdout",
     "output_type": "stream",
     "text": [
      "training set accuracy:  83.51113900219642 2\n"
     ]
    }
   ],
   "source": [
    "print('training set accuracy: ', D_Tree.score(X_train, y_train) * 100, 2)"
   ]
  },
  {
   "cell_type": "code",
   "execution_count": 78,
   "metadata": {},
   "outputs": [
    {
     "name": "stdout",
     "output_type": "stream",
     "text": [
      "[0. 0. 1. ... 0. 0. 1.]\n",
      "6483     0.0\n",
      "7360     0.0\n",
      "15553    1.0\n",
      "2611     0.0\n",
      "7117     0.0\n",
      "        ... \n",
      "2068     0.0\n",
      "9354     0.0\n",
      "2832     0.0\n",
      "8201     0.0\n",
      "13962    1.0\n",
      "Name: Donor Class 2, Length: 3188, dtype: float64\n"
     ]
    }
   ],
   "source": [
    "D_Tree_predictions = D_Tree.predict(X_test)\n",
    "print(D_Tree_predictions)\n",
    "print(y_test)"
   ]
  },
  {
   "cell_type": "code",
   "execution_count": 79,
   "metadata": {},
   "outputs": [
    {
     "name": "stdout",
     "output_type": "stream",
     "text": [
      "test set accuracy:  77.25846925972397 2\n"
     ]
    }
   ],
   "source": [
    "print('test set accuracy: ',D_Tree.score(X_test, y_test)*100, 2)"
   ]
  }
 ],
 "metadata": {
  "kernelspec": {
   "display_name": "Python 3 (ipykernel)",
   "language": "python",
   "name": "python3"
  },
  "language_info": {
   "codemirror_mode": {
    "name": "ipython",
    "version": 3
   },
   "file_extension": ".py",
   "mimetype": "text/x-python",
   "name": "python",
   "nbconvert_exporter": "python",
   "pygments_lexer": "ipython3",
   "version": "3.9.7"
  },
  "vscode": {
   "interpreter": {
    "hash": "ae9ebf86c4c486341e829affe0409d66becc280575a8c62c574a42b8ea32a773"
   }
  }
 },
 "nbformat": 4,
 "nbformat_minor": 2
}
